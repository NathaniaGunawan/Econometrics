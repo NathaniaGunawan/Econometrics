{
 "cells": [
  {
   "cell_type": "markdown",
   "metadata": {},
   "source": [
    "# <font color='salmon'>IS Model: Correlation Between GDP and TAX in Germany 1991 - 2020"
   ]
  },
  {
   "cell_type": "markdown",
   "metadata": {},
   "source": [
    "BM 2020A Short Semester Group 2\n",
    "\n",
    "- Andrea Natania -- 23102010092\n",
    "- Fiola Chrysantina -- 23102010067\n",
    "- Nathania Gunawan -- 23102010070"
   ]
  },
  {
   "cell_type": "markdown",
   "metadata": {},
   "source": [
    "## <font color='blue'>Import Package"
   ]
  },
  {
   "cell_type": "code",
   "execution_count": 1,
   "metadata": {},
   "outputs": [],
   "source": [
    "import pandas as pd\n",
    "import numpy as np\n",
    "import matplotlib.pyplot as plt\n",
    "import seaborn as sns\n",
    "import pylab as py\n",
    "from linearmodels.iv import IV2SLS\n",
    "from scipy import stats\n",
    "from patsy import dmatrices"
   ]
  },
  {
   "cell_type": "code",
   "execution_count": 2,
   "metadata": {},
   "outputs": [],
   "source": [
    "import statsmodels.api as sm\n",
    "#from statsmodels.graphics.gofplots import Probplot\n",
    "import statsmodels.graphics.tsaplots as sgt\n",
    "from statsmodels.stats.diagnostic import het_breuschpagan\n",
    "from statsmodels.stats.stattools import durbin_watson\n",
    "from statsmodels.stats.outliers_influence import variance_inflation_factor\n",
    "import warnings\n",
    "warnings .filterwarnings(\"ignore\")"
   ]
  },
  {
   "cell_type": "markdown",
   "metadata": {},
   "source": [
    "## <font color='blue'>Overview Data"
   ]
  },
  {
   "cell_type": "code",
   "execution_count": 3,
   "metadata": {
    "scrolled": true
   },
   "outputs": [
    {
     "data": {
      "text/html": [
       "<div>\n",
       "<style scoped>\n",
       "    .dataframe tbody tr th:only-of-type {\n",
       "        vertical-align: middle;\n",
       "    }\n",
       "\n",
       "    .dataframe tbody tr th {\n",
       "        vertical-align: top;\n",
       "    }\n",
       "\n",
       "    .dataframe thead th {\n",
       "        text-align: right;\n",
       "    }\n",
       "</style>\n",
       "<table border=\"1\" class=\"dataframe\">\n",
       "  <thead>\n",
       "    <tr style=\"text-align: right;\">\n",
       "      <th></th>\n",
       "      <th>YEAR</th>\n",
       "      <th>GDP</th>\n",
       "      <th>TAX</th>\n",
       "      <th>INV</th>\n",
       "      <th>GXP</th>\n",
       "      <th>CON</th>\n",
       "    </tr>\n",
       "  </thead>\n",
       "  <tbody>\n",
       "    <tr>\n",
       "      <th>0</th>\n",
       "      <td>1990</td>\n",
       "      <td>1598.640</td>\n",
       "      <td>58.42</td>\n",
       "      <td>0.100</td>\n",
       "      <td>875.040216</td>\n",
       "      <td>998.270000</td>\n",
       "    </tr>\n",
       "    <tr>\n",
       "      <th>1</th>\n",
       "      <td>1991</td>\n",
       "      <td>1875.618</td>\n",
       "      <td>75.67</td>\n",
       "      <td>0.300</td>\n",
       "      <td>871.554000</td>\n",
       "      <td>1047.324691</td>\n",
       "    </tr>\n",
       "    <tr>\n",
       "      <th>2</th>\n",
       "      <td>1992</td>\n",
       "      <td>2136.312</td>\n",
       "      <td>83.04</td>\n",
       "      <td>0.100</td>\n",
       "      <td>1010.840000</td>\n",
       "      <td>1194.112711</td>\n",
       "    </tr>\n",
       "    <tr>\n",
       "      <th>3</th>\n",
       "      <td>1993</td>\n",
       "      <td>2072.457</td>\n",
       "      <td>79.35</td>\n",
       "      <td>0.023</td>\n",
       "      <td>999.541000</td>\n",
       "      <td>1173.602271</td>\n",
       "    </tr>\n",
       "    <tr>\n",
       "      <th>4</th>\n",
       "      <td>1994</td>\n",
       "      <td>2209.934</td>\n",
       "      <td>80.90</td>\n",
       "      <td>0.300</td>\n",
       "      <td>1066.887000</td>\n",
       "      <td>1239.074364</td>\n",
       "    </tr>\n",
       "    <tr>\n",
       "      <th>5</th>\n",
       "      <td>1995</td>\n",
       "      <td>2588.002</td>\n",
       "      <td>91.81</td>\n",
       "      <td>0.500</td>\n",
       "      <td>1426.430200</td>\n",
       "      <td>1443.964788</td>\n",
       "    </tr>\n",
       "    <tr>\n",
       "      <th>6</th>\n",
       "      <td>1996</td>\n",
       "      <td>2498.113</td>\n",
       "      <td>90.98</td>\n",
       "      <td>0.600</td>\n",
       "      <td>1234.544000</td>\n",
       "      <td>1406.216532</td>\n",
       "    </tr>\n",
       "    <tr>\n",
       "      <th>7</th>\n",
       "      <td>1997</td>\n",
       "      <td>2214.694</td>\n",
       "      <td>91.64</td>\n",
       "      <td>0.800</td>\n",
       "      <td>1075.640100</td>\n",
       "      <td>1242.955109</td>\n",
       "    </tr>\n",
       "    <tr>\n",
       "      <th>8</th>\n",
       "      <td>1998</td>\n",
       "      <td>2242.065</td>\n",
       "      <td>95.56</td>\n",
       "      <td>1.300</td>\n",
       "      <td>1079.448300</td>\n",
       "      <td>1246.055352</td>\n",
       "    </tr>\n",
       "    <tr>\n",
       "      <th>9</th>\n",
       "      <td>1999</td>\n",
       "      <td>2197.125</td>\n",
       "      <td>102.94</td>\n",
       "      <td>3.900</td>\n",
       "      <td>1059.279500</td>\n",
       "      <td>1233.498753</td>\n",
       "    </tr>\n",
       "    <tr>\n",
       "      <th>10</th>\n",
       "      <td>2000</td>\n",
       "      <td>1948.843</td>\n",
       "      <td>109.09</td>\n",
       "      <td>12.700</td>\n",
       "      <td>930.723600</td>\n",
       "      <td>1096.699388</td>\n",
       "    </tr>\n",
       "    <tr>\n",
       "      <th>11</th>\n",
       "      <td>2001</td>\n",
       "      <td>1945.804</td>\n",
       "      <td>96.94</td>\n",
       "      <td>2.900</td>\n",
       "      <td>922.627300</td>\n",
       "      <td>1098.672324</td>\n",
       "    </tr>\n",
       "    <tr>\n",
       "      <th>12</th>\n",
       "      <td>2002</td>\n",
       "      <td>2077.016</td>\n",
       "      <td>94.77</td>\n",
       "      <td>2.500</td>\n",
       "      <td>994.299600</td>\n",
       "      <td>1158.584064</td>\n",
       "    </tr>\n",
       "    <tr>\n",
       "      <th>13</th>\n",
       "      <td>2003</td>\n",
       "      <td>2501.014</td>\n",
       "      <td>95.44</td>\n",
       "      <td>2.600</td>\n",
       "      <td>1208.094600</td>\n",
       "      <td>1412.512785</td>\n",
       "    </tr>\n",
       "    <tr>\n",
       "      <th>14</th>\n",
       "      <td>2004</td>\n",
       "      <td>2813.076</td>\n",
       "      <td>93.03</td>\n",
       "      <td>0.700</td>\n",
       "      <td>1316.280400</td>\n",
       "      <td>1580.063186</td>\n",
       "    </tr>\n",
       "    <tr>\n",
       "      <th>15</th>\n",
       "      <td>2005</td>\n",
       "      <td>2848.438</td>\n",
       "      <td>95.84</td>\n",
       "      <td>2.100</td>\n",
       "      <td>1333.661400</td>\n",
       "      <td>1609.575380</td>\n",
       "    </tr>\n",
       "    <tr>\n",
       "      <th>16</th>\n",
       "      <td>2006</td>\n",
       "      <td>2994.862</td>\n",
       "      <td>106.43</td>\n",
       "      <td>2.900</td>\n",
       "      <td>1354.734700</td>\n",
       "      <td>1667.613533</td>\n",
       "    </tr>\n",
       "    <tr>\n",
       "      <th>17</th>\n",
       "      <td>2007</td>\n",
       "      <td>3425.982</td>\n",
       "      <td>116.33</td>\n",
       "      <td>1.500</td>\n",
       "      <td>1486.798500</td>\n",
       "      <td>1849.604014</td>\n",
       "    </tr>\n",
       "    <tr>\n",
       "      <th>18</th>\n",
       "      <td>2008</td>\n",
       "      <td>3744.854</td>\n",
       "      <td>121.71</td>\n",
       "      <td>0.800</td>\n",
       "      <td>1655.207000</td>\n",
       "      <td>2030.857391</td>\n",
       "    </tr>\n",
       "    <tr>\n",
       "      <th>19</th>\n",
       "      <td>2009</td>\n",
       "      <td>3407.557</td>\n",
       "      <td>109.63</td>\n",
       "      <td>1.700</td>\n",
       "      <td>1642.453800</td>\n",
       "      <td>1925.340918</td>\n",
       "    </tr>\n",
       "    <tr>\n",
       "      <th>20</th>\n",
       "      <td>2010</td>\n",
       "      <td>3402.444</td>\n",
       "      <td>108.35</td>\n",
       "      <td>2.500</td>\n",
       "      <td>1637.002000</td>\n",
       "      <td>1873.512073</td>\n",
       "    </tr>\n",
       "    <tr>\n",
       "      <th>21</th>\n",
       "      <td>2011</td>\n",
       "      <td>3748.655</td>\n",
       "      <td>118.46</td>\n",
       "      <td>2.600</td>\n",
       "      <td>1695.832300</td>\n",
       "      <td>2039.128144</td>\n",
       "    </tr>\n",
       "    <tr>\n",
       "      <th>22</th>\n",
       "      <td>2012</td>\n",
       "      <td>3529.377</td>\n",
       "      <td>127.21</td>\n",
       "      <td>1.900</td>\n",
       "      <td>1585.325100</td>\n",
       "      <td>1936.646761</td>\n",
       "    </tr>\n",
       "    <tr>\n",
       "      <th>23</th>\n",
       "      <td>2013</td>\n",
       "      <td>3733.859</td>\n",
       "      <td>133.14</td>\n",
       "      <td>1.800</td>\n",
       "      <td>1678.160000</td>\n",
       "      <td>2037.046199</td>\n",
       "    </tr>\n",
       "    <tr>\n",
       "      <th>24</th>\n",
       "      <td>2014</td>\n",
       "      <td>3890.095</td>\n",
       "      <td>138.56</td>\n",
       "      <td>0.500</td>\n",
       "      <td>1723.429700</td>\n",
       "      <td>2077.641048</td>\n",
       "    </tr>\n",
       "    <tr>\n",
       "      <th>25</th>\n",
       "      <td>2015</td>\n",
       "      <td>3357.926</td>\n",
       "      <td>145.94</td>\n",
       "      <td>1.900</td>\n",
       "      <td>1482.225300</td>\n",
       "      <td>1778.514769</td>\n",
       "    </tr>\n",
       "    <tr>\n",
       "      <th>26</th>\n",
       "      <td>2016</td>\n",
       "      <td>3468.896</td>\n",
       "      <td>155.93</td>\n",
       "      <td>1.900</td>\n",
       "      <td>1538.584600</td>\n",
       "      <td>1830.503388</td>\n",
       "    </tr>\n",
       "    <tr>\n",
       "      <th>27</th>\n",
       "      <td>2017</td>\n",
       "      <td>3689.547</td>\n",
       "      <td>166.56</td>\n",
       "      <td>3.000</td>\n",
       "      <td>1629.863100</td>\n",
       "      <td>1923.242664</td>\n",
       "    </tr>\n",
       "    <tr>\n",
       "      <th>28</th>\n",
       "      <td>2018</td>\n",
       "      <td>3979.093</td>\n",
       "      <td>176.34</td>\n",
       "      <td>4.200</td>\n",
       "      <td>1763.743700</td>\n",
       "      <td>2069.099616</td>\n",
       "    </tr>\n",
       "    <tr>\n",
       "      <th>29</th>\n",
       "      <td>2019</td>\n",
       "      <td>3888.756</td>\n",
       "      <td>182.00</td>\n",
       "      <td>1.800</td>\n",
       "      <td>1749.593700</td>\n",
       "      <td>2018.315147</td>\n",
       "    </tr>\n",
       "    <tr>\n",
       "      <th>30</th>\n",
       "      <td>2020</td>\n",
       "      <td>3843.335</td>\n",
       "      <td>171.68</td>\n",
       "      <td>3.700</td>\n",
       "      <td>1954.024000</td>\n",
       "      <td>1950.845826</td>\n",
       "    </tr>\n",
       "  </tbody>\n",
       "</table>\n",
       "</div>"
      ],
      "text/plain": [
       "    YEAR       GDP     TAX     INV          GXP          CON\n",
       "0   1990  1598.640   58.42   0.100   875.040216   998.270000\n",
       "1   1991  1875.618   75.67   0.300   871.554000  1047.324691\n",
       "2   1992  2136.312   83.04   0.100  1010.840000  1194.112711\n",
       "3   1993  2072.457   79.35   0.023   999.541000  1173.602271\n",
       "4   1994  2209.934   80.90   0.300  1066.887000  1239.074364\n",
       "5   1995  2588.002   91.81   0.500  1426.430200  1443.964788\n",
       "6   1996  2498.113   90.98   0.600  1234.544000  1406.216532\n",
       "7   1997  2214.694   91.64   0.800  1075.640100  1242.955109\n",
       "8   1998  2242.065   95.56   1.300  1079.448300  1246.055352\n",
       "9   1999  2197.125  102.94   3.900  1059.279500  1233.498753\n",
       "10  2000  1948.843  109.09  12.700   930.723600  1096.699388\n",
       "11  2001  1945.804   96.94   2.900   922.627300  1098.672324\n",
       "12  2002  2077.016   94.77   2.500   994.299600  1158.584064\n",
       "13  2003  2501.014   95.44   2.600  1208.094600  1412.512785\n",
       "14  2004  2813.076   93.03   0.700  1316.280400  1580.063186\n",
       "15  2005  2848.438   95.84   2.100  1333.661400  1609.575380\n",
       "16  2006  2994.862  106.43   2.900  1354.734700  1667.613533\n",
       "17  2007  3425.982  116.33   1.500  1486.798500  1849.604014\n",
       "18  2008  3744.854  121.71   0.800  1655.207000  2030.857391\n",
       "19  2009  3407.557  109.63   1.700  1642.453800  1925.340918\n",
       "20  2010  3402.444  108.35   2.500  1637.002000  1873.512073\n",
       "21  2011  3748.655  118.46   2.600  1695.832300  2039.128144\n",
       "22  2012  3529.377  127.21   1.900  1585.325100  1936.646761\n",
       "23  2013  3733.859  133.14   1.800  1678.160000  2037.046199\n",
       "24  2014  3890.095  138.56   0.500  1723.429700  2077.641048\n",
       "25  2015  3357.926  145.94   1.900  1482.225300  1778.514769\n",
       "26  2016  3468.896  155.93   1.900  1538.584600  1830.503388\n",
       "27  2017  3689.547  166.56   3.000  1629.863100  1923.242664\n",
       "28  2018  3979.093  176.34   4.200  1763.743700  2069.099616\n",
       "29  2019  3888.756  182.00   1.800  1749.593700  2018.315147\n",
       "30  2020  3843.335  171.68   3.700  1954.024000  1950.845826"
      ]
     },
     "execution_count": 3,
     "metadata": {},
     "output_type": "execute_result"
    }
   ],
   "source": [
    "df = pd.read_csv('NEWEST GERMANY1.csv')\n",
    "df"
   ]
  },
  {
   "cell_type": "markdown",
   "metadata": {},
   "source": [
    "- GDP : Annual GDP (in Billion USD)\n",
    "- TAX : Tax on Income, Profit, and Capital Gains (in Billion USD)\n",
    "- INV : Foreign Direct Investment\n",
    "- GXP : Goverment Expenditure (in Billion USD)\n",
    "- CON : Consumer Spending (in Billion USD)"
   ]
  },
  {
   "cell_type": "code",
   "execution_count": 4,
   "metadata": {},
   "outputs": [
    {
     "name": "stdout",
     "output_type": "stream",
     "text": [
      "<class 'pandas.core.frame.DataFrame'>\n",
      "RangeIndex: 31 entries, 0 to 30\n",
      "Data columns (total 6 columns):\n",
      " #   Column  Non-Null Count  Dtype  \n",
      "---  ------  --------------  -----  \n",
      " 0   YEAR    31 non-null     int64  \n",
      " 1   GDP     31 non-null     float64\n",
      " 2   TAX     31 non-null     float64\n",
      " 3   INV     31 non-null     float64\n",
      " 4   GXP     31 non-null     float64\n",
      " 5   CON     31 non-null     float64\n",
      "dtypes: float64(5), int64(1)\n",
      "memory usage: 1.6 KB\n"
     ]
    }
   ],
   "source": [
    "df.info()"
   ]
  },
  {
   "cell_type": "code",
   "execution_count": 5,
   "metadata": {
    "scrolled": true
   },
   "outputs": [
    {
     "data": {
      "text/plain": [
       "YEAR    0\n",
       "GDP     0\n",
       "TAX     0\n",
       "INV     0\n",
       "GXP     0\n",
       "CON     0\n",
       "dtype: int64"
      ]
     },
     "execution_count": 5,
     "metadata": {},
     "output_type": "execute_result"
    }
   ],
   "source": [
    "df.isnull().sum()"
   ]
  },
  {
   "cell_type": "markdown",
   "metadata": {},
   "source": [
    "## <font color='blue'>Checking Outliers"
   ]
  },
  {
   "cell_type": "code",
   "execution_count": 6,
   "metadata": {
    "scrolled": true
   },
   "outputs": [
    {
     "data": {
      "text/html": [
       "<div>\n",
       "<style scoped>\n",
       "    .dataframe tbody tr th:only-of-type {\n",
       "        vertical-align: middle;\n",
       "    }\n",
       "\n",
       "    .dataframe tbody tr th {\n",
       "        vertical-align: top;\n",
       "    }\n",
       "\n",
       "    .dataframe thead th {\n",
       "        text-align: right;\n",
       "    }\n",
       "</style>\n",
       "<table border=\"1\" class=\"dataframe\">\n",
       "  <thead>\n",
       "    <tr style=\"text-align: right;\">\n",
       "      <th></th>\n",
       "      <th>YEAR</th>\n",
       "      <th>GDP</th>\n",
       "      <th>TAX</th>\n",
       "      <th>INV</th>\n",
       "      <th>GXP</th>\n",
       "      <th>CON</th>\n",
       "    </tr>\n",
       "  </thead>\n",
       "  <tbody>\n",
       "    <tr>\n",
       "      <th>count</th>\n",
       "      <td>31.000000</td>\n",
       "      <td>31.000000</td>\n",
       "      <td>31.000000</td>\n",
       "      <td>31.000000</td>\n",
       "      <td>31.00000</td>\n",
       "      <td>31.000000</td>\n",
       "    </tr>\n",
       "    <tr>\n",
       "      <th>mean</th>\n",
       "      <td>2005.000000</td>\n",
       "      <td>2899.109323</td>\n",
       "      <td>113.344839</td>\n",
       "      <td>2.068484</td>\n",
       "      <td>1354.25383</td>\n",
       "      <td>1586.744942</td>\n",
       "    </tr>\n",
       "    <tr>\n",
       "      <th>std</th>\n",
       "      <td>9.092121</td>\n",
       "      <td>759.265882</td>\n",
       "      <td>31.779756</td>\n",
       "      <td>2.297920</td>\n",
       "      <td>319.35271</td>\n",
       "      <td>373.680843</td>\n",
       "    </tr>\n",
       "    <tr>\n",
       "      <th>min</th>\n",
       "      <td>1990.000000</td>\n",
       "      <td>1598.640000</td>\n",
       "      <td>58.420000</td>\n",
       "      <td>0.023000</td>\n",
       "      <td>871.55400</td>\n",
       "      <td>998.270000</td>\n",
       "    </tr>\n",
       "    <tr>\n",
       "      <th>25%</th>\n",
       "      <td>1997.500000</td>\n",
       "      <td>2203.529500</td>\n",
       "      <td>92.420000</td>\n",
       "      <td>0.650000</td>\n",
       "      <td>1063.08325</td>\n",
       "      <td>1236.286558</td>\n",
       "    </tr>\n",
       "    <tr>\n",
       "      <th>50%</th>\n",
       "      <td>2005.000000</td>\n",
       "      <td>2848.438000</td>\n",
       "      <td>106.430000</td>\n",
       "      <td>1.800000</td>\n",
       "      <td>1354.73470</td>\n",
       "      <td>1609.575380</td>\n",
       "    </tr>\n",
       "    <tr>\n",
       "      <th>75%</th>\n",
       "      <td>2012.500000</td>\n",
       "      <td>3609.462000</td>\n",
       "      <td>130.175000</td>\n",
       "      <td>2.600000</td>\n",
       "      <td>1639.72790</td>\n",
       "      <td>1930.993839</td>\n",
       "    </tr>\n",
       "    <tr>\n",
       "      <th>max</th>\n",
       "      <td>2020.000000</td>\n",
       "      <td>3979.093000</td>\n",
       "      <td>182.000000</td>\n",
       "      <td>12.700000</td>\n",
       "      <td>1954.02400</td>\n",
       "      <td>2077.641048</td>\n",
       "    </tr>\n",
       "  </tbody>\n",
       "</table>\n",
       "</div>"
      ],
      "text/plain": [
       "              YEAR          GDP         TAX        INV         GXP  \\\n",
       "count    31.000000    31.000000   31.000000  31.000000    31.00000   \n",
       "mean   2005.000000  2899.109323  113.344839   2.068484  1354.25383   \n",
       "std       9.092121   759.265882   31.779756   2.297920   319.35271   \n",
       "min    1990.000000  1598.640000   58.420000   0.023000   871.55400   \n",
       "25%    1997.500000  2203.529500   92.420000   0.650000  1063.08325   \n",
       "50%    2005.000000  2848.438000  106.430000   1.800000  1354.73470   \n",
       "75%    2012.500000  3609.462000  130.175000   2.600000  1639.72790   \n",
       "max    2020.000000  3979.093000  182.000000  12.700000  1954.02400   \n",
       "\n",
       "               CON  \n",
       "count    31.000000  \n",
       "mean   1586.744942  \n",
       "std     373.680843  \n",
       "min     998.270000  \n",
       "25%    1236.286558  \n",
       "50%    1609.575380  \n",
       "75%    1930.993839  \n",
       "max    2077.641048  "
      ]
     },
     "execution_count": 6,
     "metadata": {},
     "output_type": "execute_result"
    }
   ],
   "source": [
    "df.describe()"
   ]
  },
  {
   "cell_type": "code",
   "execution_count": 7,
   "metadata": {},
   "outputs": [
    {
     "data": {
      "text/html": [
       "<div>\n",
       "<style scoped>\n",
       "    .dataframe tbody tr th:only-of-type {\n",
       "        vertical-align: middle;\n",
       "    }\n",
       "\n",
       "    .dataframe tbody tr th {\n",
       "        vertical-align: top;\n",
       "    }\n",
       "\n",
       "    .dataframe thead th {\n",
       "        text-align: right;\n",
       "    }\n",
       "</style>\n",
       "<table border=\"1\" class=\"dataframe\">\n",
       "  <thead>\n",
       "    <tr style=\"text-align: right;\">\n",
       "      <th></th>\n",
       "      <th>YEAR</th>\n",
       "      <th>GDP</th>\n",
       "      <th>TAX</th>\n",
       "      <th>INV</th>\n",
       "      <th>GXP</th>\n",
       "      <th>CON</th>\n",
       "    </tr>\n",
       "  </thead>\n",
       "  <tbody>\n",
       "    <tr>\n",
       "      <th>skew</th>\n",
       "      <td>0.0</td>\n",
       "      <td>-0.058668</td>\n",
       "      <td>0.746461</td>\n",
       "      <td>3.439041</td>\n",
       "      <td>-0.020628</td>\n",
       "      <td>-0.116334</td>\n",
       "    </tr>\n",
       "  </tbody>\n",
       "</table>\n",
       "</div>"
      ],
      "text/plain": [
       "      YEAR       GDP       TAX       INV       GXP       CON\n",
       "skew   0.0 -0.058668  0.746461  3.439041 -0.020628 -0.116334"
      ]
     },
     "execution_count": 7,
     "metadata": {},
     "output_type": "execute_result"
    }
   ],
   "source": [
    "df.agg(['skew'])"
   ]
  },
  {
   "cell_type": "code",
   "execution_count": 8,
   "metadata": {
    "scrolled": true
   },
   "outputs": [
    {
     "data": {
      "image/png": "[encoded data removed]",
      "text/plain": [
       "<Figure size 720x576 with 1 Axes>"
      ]
     },
     "metadata": {
      "needs_background": "light"
     },
     "output_type": "display_data"
    }
   ],
   "source": [
    "df.plot(figsize=(10,8), kind='box') #plot the box plot for each variable\n",
    "plt.title(\"Box Plot of Each Variable\")\n",
    "plt.show()"
   ]
  },
  {
   "cell_type": "markdown",
   "metadata": {},
   "source": [
    "## <font color='blue'>The Structural Model"
   ]
  },
  {
   "attachments": {
    "image-2.png": {
     "image/png": "[encoded data removed]"
    }
   },
   "cell_type": "markdown",
   "metadata": {},
   "source": [
    "<div style=\"text-align: center\"> $CON_{t} = \\beta_{0} + \\beta_{1} Y_{dt}$ <br> </div>\n",
    "<div style=\"text-align: center\"> $TAX_{t} = \\alpha_{0} + \\alpha_{1} Y_{t}  + v_{t}$ <br> </div>\n",
    "<div style=\"text-align: center\"> $INV_{t} = \\gamma_{0} + \\gamma_{1} r_{t}$ <br> </div>\n",
    "<div style=\"text-align: center\"> $GDP_{t} = C_{t} + I_{t} + G_{t} + u_{t}$ <br> </div>\n",
    "<div style=\"text-align: center\"> $GXP_{t} = G$ <br> </div>\n",
    "\n",
    "<div style=\"text-align: center\"> $Y_{dt} = Y_{t} - T_{t}$ <br> </div>\n",
    "\n",
    "![image-2.png](attachment:image-2.png)\n",
    "\n",
    "\n",
    "Source: <br>\n",
    "- Gujarati, Damodar N., and Porter, Dawn C. (2009) *Basic Econometrics*. 5th edition. New York: McGraw-Hill. pp.677. <br>"
   ]
  },
  {
   "cell_type": "markdown",
   "metadata": {},
   "source": [
    "Endogenous Variables => $GDP$, $TAX$ <br>\n",
    "Exogenous Variables => $INV$, $GXP$, $CON$"
   ]
  },
  {
   "cell_type": "markdown",
   "metadata": {},
   "source": [
    "## <font color='blue'>Reduced Form"
   ]
  },
  {
   "attachments": {
    "image-3.png": {
     "image/png": "[encoded data removed]"
    }
   },
   "cell_type": "markdown",
   "metadata": {},
   "source": [
    "![image-3.png](attachment:image-3.png)"
   ]
  },
  {
   "attachments": {
    "image-3.png": {
     "image/png": "[encoded data removed]"
    }
   },
   "cell_type": "markdown",
   "metadata": {},
   "source": [
    "![image-3.png](attachment:image-3.png)"
   ]
  },
  {
   "cell_type": "markdown",
   "metadata": {},
   "source": [
    "## <font color='blue'> Modelling"
   ]
  },
  {
   "cell_type": "markdown",
   "metadata": {},
   "source": [
    "### <font color='orange'> Proportion Dataset for Training and Testing"
   ]
  },
  {
   "cell_type": "code",
   "execution_count": 9,
   "metadata": {
    "scrolled": true
   },
   "outputs": [
    {
     "name": "stdout",
     "output_type": "stream",
     "text": [
      "Training Data: 24 data\n",
      "Testing Data: 7 data\n"
     ]
    }
   ],
   "source": [
    "size = int(len(df)*0.8)\n",
    "df_train, df_test = df.iloc[:size], df.iloc[size:] #train test splitting\n",
    "print('Training Data:',len(df_train),'data')\n",
    "print('Testing Data:', len(df_test), 'data')"
   ]
  },
  {
   "cell_type": "markdown",
   "metadata": {},
   "source": [
    "## <font color='blue'> Hausman Test"
   ]
  },
  {
   "cell_type": "code",
   "execution_count": 10,
   "metadata": {},
   "outputs": [],
   "source": [
    "dfx = sm.tools.tools.add_constant(df_train)"
   ]
  },
  {
   "cell_type": "markdown",
   "metadata": {},
   "source": [
    "### <font color='orange'> Check the Endogenous of GDP to TAX"
   ]
  },
  {
   "cell_type": "markdown",
   "metadata": {},
   "source": [
    "#### First Stage Regression"
   ]
  },
  {
   "cell_type": "code",
   "execution_count": 11,
   "metadata": {
    "scrolled": true
   },
   "outputs": [
    {
     "name": "stdout",
     "output_type": "stream",
     "text": [
      "                            OLS Regression Results                            \n",
      "==============================================================================\n",
      "Dep. Variable:                    GDP   R-squared:                       0.996\n",
      "Model:                            OLS   Adj. R-squared:                  0.995\n",
      "Method:                 Least Squares   F-statistic:                     1597.\n",
      "Date:                Fri, 02 Sep 2022   Prob (F-statistic):           5.68e-24\n",
      "Time:                        23:05:50   Log-Likelihood:                -124.35\n",
      "No. Observations:                  24   AIC:                             256.7\n",
      "Df Residuals:                      20   BIC:                             261.4\n",
      "Df Model:                           3                                         \n",
      "Covariance Type:            nonrobust                                         \n",
      "==============================================================================\n",
      "                 coef    std err          t      P>|t|      [0.025      0.975]\n",
      "------------------------------------------------------------------------------\n",
      "const       -165.8582     47.183     -3.515      0.002    -264.279     -67.437\n",
      "INV            2.1649      3.938      0.550      0.589      -6.050      10.380\n",
      "GXP           -0.1580      0.193     -0.819      0.423      -0.561       0.245\n",
      "CON            2.0370      0.155     13.179      0.000       1.715       2.359\n",
      "==============================================================================\n",
      "Omnibus:                       13.313   Durbin-Watson:                   1.713\n",
      "Prob(Omnibus):                  0.001   Jarque-Bera (JB):               12.134\n",
      "Skew:                          -1.465   Prob(JB):                      0.00232\n",
      "Kurtosis:                       4.885   Cond. No.                     9.77e+03\n",
      "==============================================================================\n",
      "\n",
      "Notes:\n",
      "[1] Standard Errors assume that the covariance matrix of the errors is correctly specified.\n",
      "[2] The condition number is large, 9.77e+03. This might indicate that there are\n",
      "strong multicollinearity or other numerical problems.\n"
     ]
    }
   ],
   "source": [
    "reg_s1_GDP = sm.OLS(dfx['GDP'], dfx[['const','INV', 'GXP', 'CON']]).fit()\n",
    "print(reg_s1_GDP.summary())"
   ]
  },
  {
   "cell_type": "code",
   "execution_count": 12,
   "metadata": {
    "scrolled": false
   },
   "outputs": [
    {
     "data": {
      "text/html": [
       "<div>\n",
       "<style scoped>\n",
       "    .dataframe tbody tr th:only-of-type {\n",
       "        vertical-align: middle;\n",
       "    }\n",
       "\n",
       "    .dataframe tbody tr th {\n",
       "        vertical-align: top;\n",
       "    }\n",
       "\n",
       "    .dataframe thead th {\n",
       "        text-align: right;\n",
       "    }\n",
       "</style>\n",
       "<table border=\"1\" class=\"dataframe\">\n",
       "  <thead>\n",
       "    <tr style=\"text-align: right;\">\n",
       "      <th></th>\n",
       "      <th>const</th>\n",
       "      <th>YEAR</th>\n",
       "      <th>GDP</th>\n",
       "      <th>TAX</th>\n",
       "      <th>INV</th>\n",
       "      <th>GXP</th>\n",
       "      <th>CON</th>\n",
       "      <th>GDP_pred</th>\n",
       "      <th>GDP_resid</th>\n",
       "    </tr>\n",
       "  </thead>\n",
       "  <tbody>\n",
       "    <tr>\n",
       "      <th>0</th>\n",
       "      <td>1.0</td>\n",
       "      <td>1990</td>\n",
       "      <td>1598.640</td>\n",
       "      <td>58.42</td>\n",
       "      <td>0.100</td>\n",
       "      <td>875.040216</td>\n",
       "      <td>998.270000</td>\n",
       "      <td>1729.539408</td>\n",
       "      <td>-130.899408</td>\n",
       "    </tr>\n",
       "    <tr>\n",
       "      <th>1</th>\n",
       "      <td>1.0</td>\n",
       "      <td>1991</td>\n",
       "      <td>1875.618</td>\n",
       "      <td>75.67</td>\n",
       "      <td>0.300</td>\n",
       "      <td>871.554000</td>\n",
       "      <td>1047.324691</td>\n",
       "      <td>1830.445777</td>\n",
       "      <td>45.172223</td>\n",
       "    </tr>\n",
       "    <tr>\n",
       "      <th>2</th>\n",
       "      <td>1.0</td>\n",
       "      <td>1992</td>\n",
       "      <td>2136.312</td>\n",
       "      <td>83.04</td>\n",
       "      <td>0.100</td>\n",
       "      <td>1010.840000</td>\n",
       "      <td>1194.112711</td>\n",
       "      <td>2107.007125</td>\n",
       "      <td>29.304875</td>\n",
       "    </tr>\n",
       "    <tr>\n",
       "      <th>3</th>\n",
       "      <td>1.0</td>\n",
       "      <td>1993</td>\n",
       "      <td>2072.457</td>\n",
       "      <td>79.35</td>\n",
       "      <td>0.023</td>\n",
       "      <td>999.541000</td>\n",
       "      <td>1173.602271</td>\n",
       "      <td>2066.846688</td>\n",
       "      <td>5.610312</td>\n",
       "    </tr>\n",
       "    <tr>\n",
       "      <th>4</th>\n",
       "      <td>1.0</td>\n",
       "      <td>1994</td>\n",
       "      <td>2209.934</td>\n",
       "      <td>80.90</td>\n",
       "      <td>0.300</td>\n",
       "      <td>1066.887000</td>\n",
       "      <td>1239.074364</td>\n",
       "      <td>2190.169808</td>\n",
       "      <td>19.764192</td>\n",
       "    </tr>\n",
       "  </tbody>\n",
       "</table>\n",
       "</div>"
      ],
      "text/plain": [
       "   const  YEAR       GDP    TAX    INV          GXP          CON     GDP_pred  \\\n",
       "0    1.0  1990  1598.640  58.42  0.100   875.040216   998.270000  1729.539408   \n",
       "1    1.0  1991  1875.618  75.67  0.300   871.554000  1047.324691  1830.445777   \n",
       "2    1.0  1992  2136.312  83.04  0.100  1010.840000  1194.112711  2107.007125   \n",
       "3    1.0  1993  2072.457  79.35  0.023   999.541000  1173.602271  2066.846688   \n",
       "4    1.0  1994  2209.934  80.90  0.300  1066.887000  1239.074364  2190.169808   \n",
       "\n",
       "    GDP_resid  \n",
       "0 -130.899408  \n",
       "1   45.172223  \n",
       "2   29.304875  \n",
       "3    5.610312  \n",
       "4   19.764192  "
      ]
     },
     "execution_count": 12,
     "metadata": {},
     "output_type": "execute_result"
    }
   ],
   "source": [
    "dfx['GDP_pred']= reg_s1_GDP.predict()\n",
    "dfx['GDP_resid'] = reg_s1_GDP.resid\n",
    "dfx.head()"
   ]
  },
  {
   "cell_type": "markdown",
   "metadata": {},
   "source": [
    "#### Second Stage Regression"
   ]
  },
  {
   "cell_type": "code",
   "execution_count": 13,
   "metadata": {
    "scrolled": true
   },
   "outputs": [
    {
     "name": "stdout",
     "output_type": "stream",
     "text": [
      "                            OLS Regression Results                            \n",
      "==============================================================================\n",
      "Dep. Variable:                    TAX   R-squared:                       0.738\n",
      "Model:                            OLS   Adj. R-squared:                  0.713\n",
      "Method:                 Least Squares   F-statistic:                     29.63\n",
      "Date:                Fri, 02 Sep 2022   Prob (F-statistic):           7.70e-07\n",
      "Time:                        23:05:50   Log-Likelihood:                -85.989\n",
      "No. Observations:                  24   AIC:                             178.0\n",
      "Df Residuals:                      21   BIC:                             181.5\n",
      "Df Model:                           2                                         \n",
      "Covariance Type:            nonrobust                                         \n",
      "==============================================================================\n",
      "                 coef    std err          t      P>|t|      [0.025      0.975]\n",
      "------------------------------------------------------------------------------\n",
      "const         43.4272      7.807      5.562      0.000      27.191      59.664\n",
      "GDP_pred       0.0209      0.003      7.342      0.000       0.015       0.027\n",
      "GDP_resid      0.1021      0.044      2.313      0.031       0.010       0.194\n",
      "==============================================================================\n",
      "Omnibus:                        6.432   Durbin-Watson:                   0.582\n",
      "Prob(Omnibus):                  0.040   Jarque-Bera (JB):                4.535\n",
      "Skew:                           1.020   Prob(JB):                        0.104\n",
      "Kurtosis:                       3.609   Cond. No.                     1.13e+04\n",
      "==============================================================================\n",
      "\n",
      "Notes:\n",
      "[1] Standard Errors assume that the covariance matrix of the errors is correctly specified.\n",
      "[2] The condition number is large, 1.13e+04. This might indicate that there are\n",
      "strong multicollinearity or other numerical problems.\n"
     ]
    }
   ],
   "source": [
    "reg_s2_GDP = sm.OLS(dfx['TAX'], dfx[['const','GDP_pred','GDP_resid']]).fit()\n",
    "print(reg_s2_GDP.summary())"
   ]
  },
  {
   "cell_type": "markdown",
   "metadata": {},
   "source": [
    "==================================================================================== <br>\n",
    "$H_{0}$ : There is no endogeneity <br>\n",
    "$H_{1}$ : There is endogeneity <br>\n",
    "\n",
    "P-Value of Residual < 0.05, reject null hypothesis. Thus, GDP is endogenenous to TAX.<br>\n",
    "==================================================================================== <br>"
   ]
  },
  {
   "cell_type": "markdown",
   "metadata": {},
   "source": [
    "### <font color='orange'> Checking the Endogenous of TAX to GDP"
   ]
  },
  {
   "cell_type": "markdown",
   "metadata": {},
   "source": [
    "#### First Stage Regression"
   ]
  },
  {
   "cell_type": "code",
   "execution_count": 14,
   "metadata": {
    "scrolled": true
   },
   "outputs": [
    {
     "name": "stdout",
     "output_type": "stream",
     "text": [
      "                            OLS Regression Results                            \n",
      "==============================================================================\n",
      "Dep. Variable:                    TAX   R-squared:                       0.696\n",
      "Model:                            OLS   Adj. R-squared:                  0.683\n",
      "Method:                 Least Squares   F-statistic:                     50.46\n",
      "Date:                Fri, 02 Sep 2022   Prob (F-statistic):           4.00e-07\n",
      "Time:                        23:05:50   Log-Likelihood:                -87.773\n",
      "No. Observations:                  24   AIC:                             179.5\n",
      "Df Residuals:                      22   BIC:                             181.9\n",
      "Df Model:                           1                                         \n",
      "Covariance Type:            nonrobust                                         \n",
      "==============================================================================\n",
      "                 coef    std err          t      P>|t|      [0.025      0.975]\n",
      "------------------------------------------------------------------------------\n",
      "const         42.5316      8.200      5.187      0.000      25.525      59.538\n",
      "GDP            0.0213      0.003      7.104      0.000       0.015       0.027\n",
      "==============================================================================\n",
      "Omnibus:                        3.636   Durbin-Watson:                   0.476\n",
      "Prob(Omnibus):                  0.162   Jarque-Bera (JB):                2.195\n",
      "Skew:                           0.718   Prob(JB):                        0.334\n",
      "Kurtosis:                       3.364   Cond. No.                     1.12e+04\n",
      "==============================================================================\n",
      "\n",
      "Notes:\n",
      "[1] Standard Errors assume that the covariance matrix of the errors is correctly specified.\n",
      "[2] The condition number is large, 1.12e+04. This might indicate that there are\n",
      "strong multicollinearity or other numerical problems.\n"
     ]
    }
   ],
   "source": [
    "reg_s1_TAX = sm.OLS(dfx['TAX'], dfx[['const','GDP']]).fit()\n",
    "print(reg_s1_TAX.summary())"
   ]
  },
  {
   "cell_type": "code",
   "execution_count": 15,
   "metadata": {},
   "outputs": [
    {
     "data": {
      "text/html": [
       "<div>\n",
       "<style scoped>\n",
       "    .dataframe tbody tr th:only-of-type {\n",
       "        vertical-align: middle;\n",
       "    }\n",
       "\n",
       "    .dataframe tbody tr th {\n",
       "        vertical-align: top;\n",
       "    }\n",
       "\n",
       "    .dataframe thead th {\n",
       "        text-align: right;\n",
       "    }\n",
       "</style>\n",
       "<table border=\"1\" class=\"dataframe\">\n",
       "  <thead>\n",
       "    <tr style=\"text-align: right;\">\n",
       "      <th></th>\n",
       "      <th>const</th>\n",
       "      <th>YEAR</th>\n",
       "      <th>GDP</th>\n",
       "      <th>TAX</th>\n",
       "      <th>INV</th>\n",
       "      <th>GXP</th>\n",
       "      <th>CON</th>\n",
       "      <th>GDP_pred</th>\n",
       "      <th>GDP_resid</th>\n",
       "      <th>TAX_pred</th>\n",
       "      <th>TAX_resid</th>\n",
       "    </tr>\n",
       "  </thead>\n",
       "  <tbody>\n",
       "    <tr>\n",
       "      <th>0</th>\n",
       "      <td>1.0</td>\n",
       "      <td>1990</td>\n",
       "      <td>1598.640</td>\n",
       "      <td>58.42</td>\n",
       "      <td>0.100</td>\n",
       "      <td>875.040216</td>\n",
       "      <td>998.270000</td>\n",
       "      <td>1729.539408</td>\n",
       "      <td>-130.899408</td>\n",
       "      <td>76.531110</td>\n",
       "      <td>-18.111110</td>\n",
       "    </tr>\n",
       "    <tr>\n",
       "      <th>1</th>\n",
       "      <td>1.0</td>\n",
       "      <td>1991</td>\n",
       "      <td>1875.618</td>\n",
       "      <td>75.67</td>\n",
       "      <td>0.300</td>\n",
       "      <td>871.554000</td>\n",
       "      <td>1047.324691</td>\n",
       "      <td>1830.445777</td>\n",
       "      <td>45.172223</td>\n",
       "      <td>82.421819</td>\n",
       "      <td>-6.751819</td>\n",
       "    </tr>\n",
       "    <tr>\n",
       "      <th>2</th>\n",
       "      <td>1.0</td>\n",
       "      <td>1992</td>\n",
       "      <td>2136.312</td>\n",
       "      <td>83.04</td>\n",
       "      <td>0.100</td>\n",
       "      <td>1010.840000</td>\n",
       "      <td>1194.112711</td>\n",
       "      <td>2107.007125</td>\n",
       "      <td>29.304875</td>\n",
       "      <td>87.966203</td>\n",
       "      <td>-4.926203</td>\n",
       "    </tr>\n",
       "    <tr>\n",
       "      <th>3</th>\n",
       "      <td>1.0</td>\n",
       "      <td>1993</td>\n",
       "      <td>2072.457</td>\n",
       "      <td>79.35</td>\n",
       "      <td>0.023</td>\n",
       "      <td>999.541000</td>\n",
       "      <td>1173.602271</td>\n",
       "      <td>2066.846688</td>\n",
       "      <td>5.610312</td>\n",
       "      <td>86.608148</td>\n",
       "      <td>-7.258148</td>\n",
       "    </tr>\n",
       "    <tr>\n",
       "      <th>4</th>\n",
       "      <td>1.0</td>\n",
       "      <td>1994</td>\n",
       "      <td>2209.934</td>\n",
       "      <td>80.90</td>\n",
       "      <td>0.300</td>\n",
       "      <td>1066.887000</td>\n",
       "      <td>1239.074364</td>\n",
       "      <td>2190.169808</td>\n",
       "      <td>19.764192</td>\n",
       "      <td>89.531979</td>\n",
       "      <td>-8.631979</td>\n",
       "    </tr>\n",
       "  </tbody>\n",
       "</table>\n",
       "</div>"
      ],
      "text/plain": [
       "   const  YEAR       GDP    TAX    INV          GXP          CON     GDP_pred  \\\n",
       "0    1.0  1990  1598.640  58.42  0.100   875.040216   998.270000  1729.539408   \n",
       "1    1.0  1991  1875.618  75.67  0.300   871.554000  1047.324691  1830.445777   \n",
       "2    1.0  1992  2136.312  83.04  0.100  1010.840000  1194.112711  2107.007125   \n",
       "3    1.0  1993  2072.457  79.35  0.023   999.541000  1173.602271  2066.846688   \n",
       "4    1.0  1994  2209.934  80.90  0.300  1066.887000  1239.074364  2190.169808   \n",
       "\n",
       "    GDP_resid   TAX_pred  TAX_resid  \n",
       "0 -130.899408  76.531110 -18.111110  \n",
       "1   45.172223  82.421819  -6.751819  \n",
       "2   29.304875  87.966203  -4.926203  \n",
       "3    5.610312  86.608148  -7.258148  \n",
       "4   19.764192  89.531979  -8.631979  "
      ]
     },
     "execution_count": 15,
     "metadata": {},
     "output_type": "execute_result"
    }
   ],
   "source": [
    "dfx['TAX_pred']= reg_s1_TAX.predict()\n",
    "dfx['TAX_resid'] = reg_s1_TAX.resid\n",
    "dfx.head()"
   ]
  },
  {
   "cell_type": "markdown",
   "metadata": {},
   "source": [
    "#### Second Stage Regression"
   ]
  },
  {
   "cell_type": "code",
   "execution_count": 16,
   "metadata": {
    "scrolled": true
   },
   "outputs": [
    {
     "name": "stdout",
     "output_type": "stream",
     "text": [
      "                            OLS Regression Results                            \n",
      "==============================================================================\n",
      "Dep. Variable:                    GDP   R-squared:                       1.000\n",
      "Model:                            OLS   Adj. R-squared:                  1.000\n",
      "Method:                 Least Squares   F-statistic:                 1.156e+31\n",
      "Date:                Fri, 02 Sep 2022   Prob (F-statistic):          3.64e-316\n",
      "Time:                        23:05:50   Log-Likelihood:                 639.94\n",
      "No. Observations:                  24   AIC:                            -1274.\n",
      "Df Residuals:                      21   BIC:                            -1270.\n",
      "Df Model:                           2                                         \n",
      "Covariance Type:            nonrobust                                         \n",
      "==============================================================================\n",
      "                 coef    std err          t      P>|t|      [0.025      0.975]\n",
      "------------------------------------------------------------------------------\n",
      "const      -1999.8124   9.78e-13  -2.04e+15      0.000   -1999.812   -1999.812\n",
      "TAX_pred      47.0195   9.78e-15   4.81e+15      0.000      47.019      47.019\n",
      "TAX_resid   2.842e-14   1.48e-14      1.919      0.069   -2.38e-15    5.92e-14\n",
      "==============================================================================\n",
      "Omnibus:                        0.449   Durbin-Watson:                   0.553\n",
      "Prob(Omnibus):                  0.799   Jarque-Bera (JB):                0.580\n",
      "Skew:                           0.199   Prob(JB):                        0.748\n",
      "Kurtosis:                       2.351   Cond. No.                         705.\n",
      "==============================================================================\n",
      "\n",
      "Notes:\n",
      "[1] Standard Errors assume that the covariance matrix of the errors is correctly specified.\n"
     ]
    }
   ],
   "source": [
    "reg_s2_TAX = sm.OLS(dfx['GDP'], dfx[['const','TAX_pred','TAX_resid']]).fit()\n",
    "print(reg_s2_TAX.summary())"
   ]
  },
  {
   "cell_type": "markdown",
   "metadata": {},
   "source": [
    "==================================================================================== <br>\n",
    "$H_{0}$ : There is no endogeneity <br>\n",
    "$H_{1}$ : There is endogeneity <br>\n",
    "\n",
    "P-Value of Residual < 0.05, reject null hypothesis. Thus, TAX is endogenenous to GDP.<br>\n",
    "==================================================================================== <br>"
   ]
  },
  {
   "cell_type": "markdown",
   "metadata": {},
   "source": [
    "## <font color='blue'> Model Identification by Order and Rank"
   ]
  },
  {
   "cell_type": "markdown",
   "metadata": {},
   "source": [
    "M = Number of Endogenous Variables in the Model <br>\n",
    "m = Number of Endogenous Variables in a Given Equation <br>\n",
    "K = Number of Predetermined or Exogenous Variables in the Model <br>\n",
    "k = Number of Predetermined or Exogenous in a Given Equation <br>\n",
    "\n",
    "If K-k >= m-1, then the given equation is exactly identified. <br>\n",
    "If K-k < m-1, then the given equation is exactly unidentified.<br>\n",
    "\n",
    "Note: K include the intercept, so the total of exogeneous variable in the model added by intercept (in this case = 1)"
   ]
  },
  {
   "cell_type": "markdown",
   "metadata": {},
   "source": [
    "### <font color='orange'> Order by Condition"
   ]
  },
  {
   "cell_type": "markdown",
   "metadata": {},
   "source": [
    "We want that K−k >= m−1 <br>\n",
    "Endogenous Variables => $GDP$, $TAX$ <br>\n",
    "Exogenous Variables => $INV$, $GXP$, $CON$ <br>\n",
    "\n",
    "Identification of the GDP equation: <br>\n",
    "from the our equations, we get M=2,m=2,K=4,k=3 <br> \n",
    "\n",
    "K-k >= m-1 <br> \n",
    "4-3 >= 2-1 <br> \n",
    "1   >= 1  --> Identified <br>\n",
    "\n",
    "Identification of the TAX equation: <br>\n",
    "from the our equations, we get M=2,m=2,K=3,k=0 <br>\n",
    "K-k >= m-1 <br> \n",
    "3-0 >= 2-1 <br> \n",
    "3   >= 1  --> Identified <br>"
   ]
  },
  {
   "cell_type": "code",
   "execution_count": 17,
   "metadata": {},
   "outputs": [
    {
     "data": {
      "text/html": [
       "<div>\n",
       "<style scoped>\n",
       "    .dataframe tbody tr th:only-of-type {\n",
       "        vertical-align: middle;\n",
       "    }\n",
       "\n",
       "    .dataframe tbody tr th {\n",
       "        vertical-align: top;\n",
       "    }\n",
       "\n",
       "    .dataframe thead th {\n",
       "        text-align: right;\n",
       "    }\n",
       "</style>\n",
       "<table border=\"1\" class=\"dataframe\">\n",
       "  <thead>\n",
       "    <tr style=\"text-align: right;\">\n",
       "      <th></th>\n",
       "      <th>K</th>\n",
       "      <th>k</th>\n",
       "      <th>K-k</th>\n",
       "      <th>m</th>\n",
       "      <th>m-1</th>\n",
       "      <th>Identification</th>\n",
       "    </tr>\n",
       "    <tr>\n",
       "      <th>Equation</th>\n",
       "      <th></th>\n",
       "      <th></th>\n",
       "      <th></th>\n",
       "      <th></th>\n",
       "      <th></th>\n",
       "      <th></th>\n",
       "    </tr>\n",
       "  </thead>\n",
       "  <tbody>\n",
       "    <tr>\n",
       "      <th>GDP</th>\n",
       "      <td>4</td>\n",
       "      <td>3</td>\n",
       "      <td>1</td>\n",
       "      <td>2</td>\n",
       "      <td>1</td>\n",
       "      <td>Exactly Identified</td>\n",
       "    </tr>\n",
       "    <tr>\n",
       "      <th>TAX</th>\n",
       "      <td>3</td>\n",
       "      <td>0</td>\n",
       "      <td>3</td>\n",
       "      <td>2</td>\n",
       "      <td>1</td>\n",
       "      <td>Over Identified</td>\n",
       "    </tr>\n",
       "  </tbody>\n",
       "</table>\n",
       "</div>"
      ],
      "text/plain": [
       "          K  k K-k  m m-1      Identification\n",
       "Equation                                     \n",
       "GDP       4  3   1  2   1  Exactly Identified\n",
       "TAX       3  0   3  2   1     Over Identified"
      ]
     },
     "execution_count": 17,
     "metadata": {},
     "output_type": "execute_result"
    }
   ],
   "source": [
    "eq = ['GDP','TAX']\n",
    "K = ['4','3'] # 4 variabel eksogen ditambah 2 intercept karena berdasarkan buku K adlh jumlah variabel eksogen include dengan intercept\n",
    "k = ['3','0']\n",
    "Kk = ['1','3']\n",
    "\n",
    "m = ['2','2']\n",
    "m1 = ['1','1']\n",
    "\n",
    "i = ['Exactly Identified', 'Over Identified']\n",
    "\n",
    "col = {'Equation': eq, \n",
    "           'K': K, \n",
    "           'k': k,\n",
    "           'K-k':Kk, \n",
    "           'm': m, \n",
    "           'm-1': m1, \n",
    "           'Identification': i}\n",
    "oc = pd.DataFrame(col).set_index('Equation')\n",
    "oc"
   ]
  },
  {
   "cell_type": "markdown",
   "metadata": {},
   "source": [
    "### <font color='orange'> Rank Condition"
   ]
  },
  {
   "attachments": {
    "image-2.png": {
     "image/png": "[encoded data removed]"
    }
   },
   "cell_type": "markdown",
   "metadata": {},
   "source": [
    "![image-2.png](attachment:image-2.png)"
   ]
  },
  {
   "attachments": {
    "image-5.png": {
     "image/png": "[encoded data removed]"
    }
   },
   "cell_type": "markdown",
   "metadata": {},
   "source": [
    "![image-5.png](attachment:image-5.png)"
   ]
  },
  {
   "cell_type": "markdown",
   "metadata": {},
   "source": [
    "**Identification of the GDP equation**\n",
    "1. From the table above, cross out all the coefficients in the first row and the columns with non-zero coefficients in the first row.\n",
    "2. Suppose A is a matrix containing the Life Expectancy coefficient after the deletion process. Therefore, the value of A is obtained as follows.\n",
    "\n",
    "\n",
    "\\begin{bmatrix} \n",
    "-\\alpha_{1} \\\\\n",
    "\\end{bmatrix}   \n",
    "and $det|A| = -\\alpha_{1} \\neq 0$. <br>\n",
    "    Since the determinant value of A≠0, this equation is identified with rank =1  "
   ]
  },
  {
   "cell_type": "markdown",
   "metadata": {},
   "source": [
    "**Identification of the TAX equation**\n",
    "1. From the table above, cross out all the coefficients in the second row and the columns with non-zero coefficients in the second row.\n",
    "2. Suppose Z is a matrix containing the Life Expectancy coefficient after the deletion process. Therefore, the value of Z is obtained as follows.\n",
    "\n",
    "\\begin{bmatrix} \n",
    "1 \\\\\n",
    "\\end{bmatrix}   \n",
    "and $det|Z| = 1 \\neq 0$. <br>\n",
    "    Since the determinant value of Z≠0, this equation is identified with rank =1\n",
    "   "
   ]
  },
  {
   "cell_type": "markdown",
   "metadata": {},
   "source": [
    "## <font color='blue'> Two-Stage Least Squares Method"
   ]
  },
  {
   "cell_type": "markdown",
   "metadata": {},
   "source": [
    "### <font color='orange'> GDP Model"
   ]
  },
  {
   "cell_type": "code",
   "execution_count": 18,
   "metadata": {},
   "outputs": [
    {
     "name": "stdout",
     "output_type": "stream",
     "text": [
      "                          IV-2SLS Estimation Summary                          \n",
      "==============================================================================\n",
      "Dep. Variable:                    GDP   R-squared:                      0.9908\n",
      "Estimator:                    IV-2SLS   Adj. R-squared:                 0.9895\n",
      "No. Observations:                  24   F-statistic:                    4295.7\n",
      "Date:                Fri, Sep 02 2022   P-value (F-stat)                0.0000\n",
      "Time:                        23:05:50   Distribution:                  chi2(3)\n",
      "Cov. Estimator:                robust                                         \n",
      "                                                                              \n",
      "                             Parameter Estimates                              \n",
      "==============================================================================\n",
      "            Parameter  Std. Err.     T-stat    P-value    Lower CI    Upper CI\n",
      "------------------------------------------------------------------------------\n",
      "Intercept     -114.27     58.308    -1.9597     0.0500     -228.55      0.0145\n",
      "GXP           -1.0905     0.7226    -1.5093     0.1312     -2.5067      0.3257\n",
      "INV           -0.2135     2.0621    -0.1036     0.9175     -4.2553      3.8282\n",
      "CON            2.7961     0.5847     4.7818     0.0000      1.6500      3.9422\n",
      "==============================================================================\n",
      "\n",
      "Endogenous: CON\n",
      "Instruments: TAX\n",
      "Robust Covariance (Heteroskedastic)\n",
      "Debiased: False\n"
     ]
    }
   ],
   "source": [
    "formula1 = \"GDP ~ 1 + [CON ~ TAX] + INV + GXP\"\n",
    "mod1 = IV2SLS.from_formula(formula1, df_train).fit()\n",
    "print(mod1.summary)"
   ]
  },
  {
   "cell_type": "code",
   "execution_count": 19,
   "metadata": {},
   "outputs": [
    {
     "name": "stdout",
     "output_type": "stream",
     "text": [
      "    First Stage Estimation Results    \n",
      "======================================\n",
      "                                   CON\n",
      "--------------------------------------\n",
      "R-squared                       0.9763\n",
      "Partial R-squared               0.2565\n",
      "Shea's R-squared                0.2565\n",
      "Partial F-statistic             5.1500\n",
      "P-value (Partial F-stat)        0.0232\n",
      "Partial F-stat Distn           chi2(1)\n",
      "========================== ===========\n",
      "Intercept                      -188.91\n",
      "                             (-3.1560)\n",
      "GXP                             1.0282\n",
      "                              (9.9425)\n",
      "INV                            -8.6584\n",
      "                             (-2.3073)\n",
      "TAX                             3.9939\n",
      "                              (2.2694)\n",
      "--------------------------------------\n",
      "\n",
      "T-stats reported in parentheses\n",
      "T-stats use same covariance type as original model\n"
     ]
    }
   ],
   "source": [
    "print(mod1.first_stage)"
   ]
  },
  {
   "cell_type": "markdown",
   "metadata": {},
   "source": [
    "### <font color='orange'> TAX Model\n"
   ]
  },
  {
   "cell_type": "code",
   "execution_count": 20,
   "metadata": {},
   "outputs": [
    {
     "name": "stdout",
     "output_type": "stream",
     "text": [
      "                          IV-2SLS Estimation Summary                          \n",
      "==============================================================================\n",
      "Dep. Variable:                    TAX   R-squared:                      0.6962\n",
      "Estimator:                    IV-2SLS   Adj. R-squared:                 0.6824\n",
      "No. Observations:                  24   F-statistic:                    44.228\n",
      "Date:                Fri, Sep 02 2022   P-value (F-stat)                0.0000\n",
      "Time:                        23:05:50   Distribution:                  chi2(1)\n",
      "Cov. Estimator:                robust                                         \n",
      "                                                                              \n",
      "                             Parameter Estimates                              \n",
      "==============================================================================\n",
      "            Parameter  Std. Err.     T-stat    P-value    Lower CI    Upper CI\n",
      "------------------------------------------------------------------------------\n",
      "Intercept      43.427     9.5157     4.5637     0.0000      24.777      62.078\n",
      "GDP            0.0209     0.0031     6.6504     0.0000      0.0148      0.0271\n",
      "==============================================================================\n",
      "\n",
      "Endogenous: GDP\n",
      "Instruments: CON, GXP, INV\n",
      "Robust Covariance (Heteroskedastic)\n",
      "Debiased: False\n"
     ]
    }
   ],
   "source": [
    "formula2 = \"TAX ~ 1 + [GDP ~ INV + GXP + CON]\"\n",
    "mod2 = IV2SLS.from_formula(formula2, df_train).fit()\n",
    "print(mod2.summary)"
   ]
  },
  {
   "cell_type": "code",
   "execution_count": 21,
   "metadata": {},
   "outputs": [
    {
     "name": "stdout",
     "output_type": "stream",
     "text": [
      "    First Stage Estimation Results    \n",
      "======================================\n",
      "                                   GDP\n",
      "--------------------------------------\n",
      "R-squared                       0.9958\n",
      "Partial R-squared               0.9958\n",
      "Shea's R-squared                0.9958\n",
      "Partial F-statistic             8953.2\n",
      "P-value (Partial F-stat)        0.0000\n",
      "Partial F-stat Distn           chi2(3)\n",
      "========================== ===========\n",
      "Intercept                      -165.86\n",
      "                             (-2.9781)\n",
      "CON                             2.0370\n",
      "                              (16.669)\n",
      "GXP                            -0.1580\n",
      "                             (-1.0159)\n",
      "INV                             2.1649\n",
      "                              (0.9617)\n",
      "--------------------------------------\n",
      "\n",
      "T-stats reported in parentheses\n",
      "T-stats use same covariance type as original model\n"
     ]
    }
   ],
   "source": [
    "print(mod2.first_stage)"
   ]
  },
  {
   "cell_type": "markdown",
   "metadata": {},
   "source": [
    "=======================================================================================<br>\n",
    "The first stage summary shows the parameter estimation for the reduced form of $GDP$. <br>\n",
    "The second stage summary shows the parameter estimation for the $TAX$ Model.\n",
    "\n",
    "$\\hat{GDP} = -1264.7 + 0.7545 GXP -85.089 INV  +31.715 \\hat{TAX}$ <br>\n",
    "\n",
    "with <br>\n",
    "$\\hat{TAX} = 43.427 + 0.0209 \\hat{GDP} $ <br>\n",
    "\n",
    "From the coefficients, we can see that $TAX$ and $GXP$ variables have positive correlation and $INV$ has negative correlation with $GDP$ variable <br>\n",
    "<br>\n",
    "\n",
    "=======================================================================================<br>\n"
   ]
  },
  {
   "cell_type": "markdown",
   "metadata": {},
   "source": [
    "## <font color='blue'>Diagnostic Testing</font>"
   ]
  },
  {
   "cell_type": "code",
   "execution_count": 22,
   "metadata": {},
   "outputs": [
    {
     "data": {
      "text/html": [
       "<div>\n",
       "<style scoped>\n",
       "    .dataframe tbody tr th:only-of-type {\n",
       "        vertical-align: middle;\n",
       "    }\n",
       "\n",
       "    .dataframe tbody tr th {\n",
       "        vertical-align: top;\n",
       "    }\n",
       "\n",
       "    .dataframe thead th {\n",
       "        text-align: right;\n",
       "    }\n",
       "</style>\n",
       "<table border=\"1\" class=\"dataframe\">\n",
       "  <thead>\n",
       "    <tr style=\"text-align: right;\">\n",
       "      <th></th>\n",
       "      <th>YEAR</th>\n",
       "      <th>GDP</th>\n",
       "      <th>TAX</th>\n",
       "      <th>INV</th>\n",
       "      <th>GXP</th>\n",
       "      <th>CON</th>\n",
       "      <th>GDP_pred</th>\n",
       "      <th>GDP_resid</th>\n",
       "      <th>TAX_pred</th>\n",
       "      <th>TAX_resid</th>\n",
       "    </tr>\n",
       "  </thead>\n",
       "  <tbody>\n",
       "    <tr>\n",
       "      <th>0</th>\n",
       "      <td>1990</td>\n",
       "      <td>1598.640</td>\n",
       "      <td>58.42</td>\n",
       "      <td>0.100</td>\n",
       "      <td>875.040216</td>\n",
       "      <td>998.270000</td>\n",
       "      <td>1722.723338</td>\n",
       "      <td>-124.083338</td>\n",
       "      <td>76.887742</td>\n",
       "      <td>-18.467742</td>\n",
       "    </tr>\n",
       "    <tr>\n",
       "      <th>1</th>\n",
       "      <td>1991</td>\n",
       "      <td>1875.618</td>\n",
       "      <td>75.67</td>\n",
       "      <td>0.300</td>\n",
       "      <td>871.554000</td>\n",
       "      <td>1047.324691</td>\n",
       "      <td>1863.644367</td>\n",
       "      <td>11.973633</td>\n",
       "      <td>82.685070</td>\n",
       "      <td>-7.015070</td>\n",
       "    </tr>\n",
       "    <tr>\n",
       "      <th>2</th>\n",
       "      <td>1992</td>\n",
       "      <td>2136.312</td>\n",
       "      <td>83.04</td>\n",
       "      <td>0.100</td>\n",
       "      <td>1010.840000</td>\n",
       "      <td>1194.112711</td>\n",
       "      <td>2122.226548</td>\n",
       "      <td>14.085452</td>\n",
       "      <td>88.141562</td>\n",
       "      <td>-5.101562</td>\n",
       "    </tr>\n",
       "    <tr>\n",
       "      <th>3</th>\n",
       "      <td>1993</td>\n",
       "      <td>2072.457</td>\n",
       "      <td>79.35</td>\n",
       "      <td>0.023</td>\n",
       "      <td>999.541000</td>\n",
       "      <td>1173.602271</td>\n",
       "      <td>2077.215543</td>\n",
       "      <td>-4.758543</td>\n",
       "      <td>86.805036</td>\n",
       "      <td>-7.455036</td>\n",
       "    </tr>\n",
       "    <tr>\n",
       "      <th>4</th>\n",
       "      <td>1994</td>\n",
       "      <td>2209.934</td>\n",
       "      <td>80.90</td>\n",
       "      <td>0.300</td>\n",
       "      <td>1066.887000</td>\n",
       "      <td>1239.074364</td>\n",
       "      <td>2186.780574</td>\n",
       "      <td>23.153426</td>\n",
       "      <td>89.682518</td>\n",
       "      <td>-8.782518</td>\n",
       "    </tr>\n",
       "  </tbody>\n",
       "</table>\n",
       "</div>"
      ],
      "text/plain": [
       "   YEAR       GDP    TAX    INV          GXP          CON     GDP_pred  \\\n",
       "0  1990  1598.640  58.42  0.100   875.040216   998.270000  1722.723338   \n",
       "1  1991  1875.618  75.67  0.300   871.554000  1047.324691  1863.644367   \n",
       "2  1992  2136.312  83.04  0.100  1010.840000  1194.112711  2122.226548   \n",
       "3  1993  2072.457  79.35  0.023   999.541000  1173.602271  2077.215543   \n",
       "4  1994  2209.934  80.90  0.300  1066.887000  1239.074364  2186.780574   \n",
       "\n",
       "    GDP_resid   TAX_pred  TAX_resid  \n",
       "0 -124.083338  76.887742 -18.467742  \n",
       "1   11.973633  82.685070  -7.015070  \n",
       "2   14.085452  88.141562  -5.101562  \n",
       "3   -4.758543  86.805036  -7.455036  \n",
       "4   23.153426  89.682518  -8.782518  "
      ]
     },
     "execution_count": 22,
     "metadata": {},
     "output_type": "execute_result"
    }
   ],
   "source": [
    "df_train[\"GDP_pred\"] = mod1.fitted_values \n",
    "df_train[\"GDP_resid\"] = mod1.resids\n",
    "df_train[\"TAX_pred\"] = mod2.fitted_values\n",
    "df_train[\"TAX_resid\"] = mod2.resids\n",
    "df_train.head()"
   ]
  },
  {
   "cell_type": "code",
   "execution_count": 23,
   "metadata": {},
   "outputs": [
    {
     "name": "stdout",
     "output_type": "stream",
     "text": [
      "GDP Model :  \t Sum of Residuals =  5.895799404243007e-10\n",
      "TAX Model :  \t Sum of Residuals =  9.521272659185342e-13\n"
     ]
    }
   ],
   "source": [
    "print(\"GDP Model :  \\t Sum of Residuals = \", df_train[\"GDP_resid\"].sum())\n",
    "print(\"TAX Model :  \\t Sum of Residuals = \", df_train[\"TAX_resid\"].sum())"
   ]
  },
  {
   "cell_type": "markdown",
   "metadata": {},
   "source": [
    "### <font color='orange'> Normality Test"
   ]
  },
  {
   "cell_type": "markdown",
   "metadata": {},
   "source": [
    "#### <font color='purple'>GDP MODEL"
   ]
  },
  {
   "cell_type": "code",
   "execution_count": 24,
   "metadata": {},
   "outputs": [
    {
     "data": {
      "image/png": "[encoded data removed]",
      "text/plain": [
       "<Figure size 432x288 with 1 Axes>"
      ]
     },
     "metadata": {},
     "output_type": "display_data"
    }
   ],
   "source": [
    "sns.set_style('whitegrid')\n",
    "sm.qqplot(df_train[\"GDP_resid\"], line='s') #qqplot\n",
    "plt.title('Residuals QQ Plot of GDP Model', size=15)\n",
    "py.show()"
   ]
  },
  {
   "cell_type": "code",
   "execution_count": 25,
   "metadata": {},
   "outputs": [
    {
     "name": "stdout",
     "output_type": "stream",
     "text": [
      "Jarque-Bera Statistics:  20.730188131599522\n",
      "Jarque-Bera P-Value:  3.151351470787045e-05\n"
     ]
    }
   ],
   "source": [
    "jb_GDP = stats.jarque_bera(df_train[\"GDP_resid\"])\n",
    "print(\"Jarque-Bera Statistics: \", jb_GDP[0])\n",
    "print(\"Jarque-Bera P-Value: \", jb_GDP[1])"
   ]
  },
  {
   "cell_type": "markdown",
   "metadata": {},
   "source": [
    "After conducting statistic test to check the normality of the residuals for the $GDP$ model, we get the *P-value* equals to 0.5518377656687989. <br>\n",
    "This value is bigger than 0.05 (assume we choose 0.05 as our significance level/alpha). <br>\n",
    "Thus, if we do a hypothesis test with <br>\n",
    "|| $h_{0}:$ data distribution is normal , <br>\n",
    "|| $h_{1}:$ data distribution is not normal ,<br>\n",
    "then we do not reject $h_{0}$, i.e. the residuals of the $GDP$ model are __normal__."
   ]
  },
  {
   "cell_type": "markdown",
   "metadata": {},
   "source": [
    "#### <font color='purple'>TAX MODEL"
   ]
  },
  {
   "cell_type": "code",
   "execution_count": 26,
   "metadata": {},
   "outputs": [
    {
     "data": {
      "image/png": "[encoded data removed]",
      "text/plain": [
       "<Figure size 432x288 with 1 Axes>"
      ]
     },
     "metadata": {},
     "output_type": "display_data"
    }
   ],
   "source": [
    "sns.set_style('whitegrid')\n",
    "sm.qqplot(df_train[\"TAX_resid\"], line='s') #qqplot\n",
    "plt.title('Residuals QQ Plot of TAX Model', size=15)\n",
    "py.show()"
   ]
  },
  {
   "cell_type": "code",
   "execution_count": 27,
   "metadata": {},
   "outputs": [
    {
     "name": "stdout",
     "output_type": "stream",
     "text": [
      "Jarque-Bera Statistics:  1.920512601694465\n",
      "Jarque-Bera P-Value:  0.38279476277910374\n"
     ]
    }
   ],
   "source": [
    "jb_TAX = stats.jarque_bera(df_train[\"TAX_resid\"])\n",
    "print(\"Jarque-Bera Statistics: \", jb_TAX[0])\n",
    "print(\"Jarque-Bera P-Value: \", jb_TAX[1])"
   ]
  },
  {
   "cell_type": "markdown",
   "metadata": {},
   "source": [
    "After conducting statistic test to check the normality of the residuals for the $TAX$ model, we get the *P-value* equals to 0.38279476277905244. <br>\n",
    "This value is greater than 0.05 (assume we choose 0.05 as our significance level/alpha). <br>\n",
    "Thus, if we do a hypothesis test with <br>\n",
    "|| $h_{0}:$ data distribution is normal , <br>\n",
    "|| $h_{1}:$ data distribution is not normal ,<br>\n",
    "then we do not reject $h_{0}$, i.e. the residuals of the $TAX$ model are __normal__."
   ]
  },
  {
   "cell_type": "markdown",
   "metadata": {},
   "source": [
    "### <font color='orange'> Heteroskedasticity Test"
   ]
  },
  {
   "cell_type": "markdown",
   "metadata": {},
   "source": [
    "#### <font color='purple'>GDP MODEL"
   ]
  },
  {
   "cell_type": "code",
   "execution_count": 28,
   "metadata": {},
   "outputs": [
    {
     "data": {
      "image/png": "[encoded data removed]",
      "text/plain": [
       "<Figure size 432x288 with 1 Axes>"
      ]
     },
     "metadata": {},
     "output_type": "display_data"
    }
   ],
   "source": [
    "plt.scatter(df_train['GDP_pred'], df_train['GDP_resid']) #resid vs fitted plot\n",
    "plt.axhline(y = df_train['GDP_resid'].mean(), color ='green', linestyle =':')\n",
    "plt.title('GDP Residuals vs Fitted Values Plot')\n",
    "plt.xlabel('Fitted Values')\n",
    "plt.ylabel('Residuals')\n",
    "py.show()"
   ]
  },
  {
   "cell_type": "code",
   "execution_count": 29,
   "metadata": {},
   "outputs": [
    {
     "name": "stdout",
     "output_type": "stream",
     "text": [
      "Breusch-Pagan Statistics:  6.418123356786899\n",
      "Breusch-Pagan P-Value:  0.09294805033265628\n"
     ]
    }
   ],
   "source": [
    "m1 = \"GDP ~ 1 + TAX + INV + GXP\"\n",
    "y, X = dmatrices(m1, df_train, return_type='dataframe')\n",
    "\n",
    "bp_GDP = het_breuschpagan(df_train[\"GDP_resid\"], X)\n",
    "bp_GDP\n",
    "\n",
    "print(\"Breusch-Pagan Statistics: \", bp_GDP[0])\n",
    "print(\"Breusch-Pagan P-Value: \", bp_GDP[1])"
   ]
  },
  {
   "cell_type": "markdown",
   "metadata": {},
   "source": [
    "After conducting statistic test to check the hetrokedasticity of the residuals for the $GDP$ model, we get the *P-value* equals to 0.8283845874197588. <br>\n",
    "This value is greater than 0.05 (assume we choose 0.05 as our significance level/alpha). <br>\n",
    "Thus, if we do a hypothesis test with <br>\n",
    "|| $h_{0}:$ data variance is constant  , <br>\n",
    "|| $h_{1}:$ data variance is not constant ,<br>\n",
    "then we do not reject $h_{0}$, i.e. the residuals' variance of the transformed $GDP$ model is __constant, i.e. homokedasticity__."
   ]
  },
  {
   "cell_type": "markdown",
   "metadata": {},
   "source": [
    "#### <font color='purple'>TAX MODEL"
   ]
  },
  {
   "cell_type": "code",
   "execution_count": 30,
   "metadata": {
    "scrolled": true
   },
   "outputs": [
    {
     "data": {
      "image/png": "[encoded data removed]",
      "text/plain": [
       "<Figure size 432x288 with 1 Axes>"
      ]
     },
     "metadata": {},
     "output_type": "display_data"
    }
   ],
   "source": [
    "plt.scatter(df_train['TAX_pred'], df_train['TAX_resid']) #resid vs fitted plot\n",
    "plt.axhline(y = df_train['TAX_resid'].mean(), color ='green', linestyle =':')\n",
    "plt.title('TAX Residuals vs Fitted Values Plot')\n",
    "plt.xlabel('Fitted Values')\n",
    "plt.ylabel('Residuals')\n",
    "py.show()"
   ]
  },
  {
   "cell_type": "code",
   "execution_count": 31,
   "metadata": {},
   "outputs": [
    {
     "name": "stdout",
     "output_type": "stream",
     "text": [
      "Breusch-Pagan Statistics:  15.942045374889549\n",
      "Breusch-Pagan P-Value:  0.0011654338263701104\n"
     ]
    }
   ],
   "source": [
    "m2 = \"TAX ~ 1 + INV + GXP + CON\"\n",
    "y, X = dmatrices(m2, df_train, return_type='dataframe')\n",
    "\n",
    "bp_TAX = het_breuschpagan(df_train[\"TAX_resid\"], X)\n",
    "bp_TAX\n",
    "\n",
    "print(\"Breusch-Pagan Statistics: \", bp_TAX[0])\n",
    "print(\"Breusch-Pagan P-Value: \", bp_TAX[1])"
   ]
  },
  {
   "cell_type": "markdown",
   "metadata": {},
   "source": [
    "After conducting statistic test to check the hetrokedasticity of the residuals for the $TAX$ model, we get the *P-value* equals to  0.0011654338263699443. <br>\n",
    "This value is less than 0.05 (assume we choose 0.05 as our significance level/alpha). <br>\n",
    "Thus, if we do a hypothesis test with <br>\n",
    "|| $h_{0}:$ data variance is constant  , <br>\n",
    "|| $h_{1}:$ data variance is not constant ,<br>\n",
    "then we reject $h_{0}$, i.e. the residuals' variance of the $TAX$ model is __not constant, i.e. heteroskedasticity__."
   ]
  },
  {
   "cell_type": "markdown",
   "metadata": {},
   "source": [
    "### <font color='orange'> Multicollinearity Test"
   ]
  },
  {
   "cell_type": "code",
   "execution_count": 32,
   "metadata": {},
   "outputs": [],
   "source": [
    "def calc_vif(x): #vif function\n",
    "    vif = pd.DataFrame()\n",
    "    vif['Variables'] = x.columns\n",
    "    vif['VIF'] = [variance_inflation_factor(x.values, i) for i in range(x.shape[1])]\n",
    "    \n",
    "    return vif"
   ]
  },
  {
   "cell_type": "markdown",
   "metadata": {},
   "source": [
    "#### <font color='purple'>GDP MODEL"
   ]
  },
  {
   "cell_type": "code",
   "execution_count": 33,
   "metadata": {},
   "outputs": [
    {
     "data": {
      "text/html": [
       "<div>\n",
       "<style scoped>\n",
       "    .dataframe tbody tr th:only-of-type {\n",
       "        vertical-align: middle;\n",
       "    }\n",
       "\n",
       "    .dataframe tbody tr th {\n",
       "        vertical-align: top;\n",
       "    }\n",
       "\n",
       "    .dataframe thead th {\n",
       "        text-align: right;\n",
       "    }\n",
       "</style>\n",
       "<table border=\"1\" class=\"dataframe\">\n",
       "  <thead>\n",
       "    <tr style=\"text-align: right;\">\n",
       "      <th></th>\n",
       "      <th>Variables</th>\n",
       "      <th>VIF</th>\n",
       "    </tr>\n",
       "  </thead>\n",
       "  <tbody>\n",
       "    <tr>\n",
       "      <th>0</th>\n",
       "      <td>TAX</td>\n",
       "      <td>98.461963</td>\n",
       "    </tr>\n",
       "    <tr>\n",
       "      <th>1</th>\n",
       "      <td>INV</td>\n",
       "      <td>2.828877</td>\n",
       "    </tr>\n",
       "    <tr>\n",
       "      <th>2</th>\n",
       "      <td>GXP</td>\n",
       "      <td>85.410509</td>\n",
       "    </tr>\n",
       "  </tbody>\n",
       "</table>\n",
       "</div>"
      ],
      "text/plain": [
       "  Variables        VIF\n",
       "0       TAX  98.461963\n",
       "1       INV   2.828877\n",
       "2       GXP  85.410509"
      ]
     },
     "execution_count": 33,
     "metadata": {},
     "output_type": "execute_result"
    }
   ],
   "source": [
    "vif_GDP = df_train[['TAX','INV','GXP']]\n",
    "calc_vif(vif_GDP)"
   ]
  },
  {
   "cell_type": "markdown",
   "metadata": {},
   "source": [
    "Based on the table above, it is found that the VIF values of TAX, INV, and GXP are greater than 5. Therefore, there is multicollinearity between these variables."
   ]
  },
  {
   "cell_type": "markdown",
   "metadata": {},
   "source": [
    "#### <font color='purple'>TAX MODEL"
   ]
  },
  {
   "cell_type": "code",
   "execution_count": 34,
   "metadata": {},
   "outputs": [
    {
     "data": {
      "text/html": [
       "<div>\n",
       "<style scoped>\n",
       "    .dataframe tbody tr th:only-of-type {\n",
       "        vertical-align: middle;\n",
       "    }\n",
       "\n",
       "    .dataframe tbody tr th {\n",
       "        vertical-align: top;\n",
       "    }\n",
       "\n",
       "    .dataframe thead th {\n",
       "        text-align: right;\n",
       "    }\n",
       "</style>\n",
       "<table border=\"1\" class=\"dataframe\">\n",
       "  <thead>\n",
       "    <tr style=\"text-align: right;\">\n",
       "      <th></th>\n",
       "      <th>Variables</th>\n",
       "      <th>VIF</th>\n",
       "    </tr>\n",
       "  </thead>\n",
       "  <tbody>\n",
       "    <tr>\n",
       "      <th>0</th>\n",
       "      <td>INV</td>\n",
       "      <td>1.530888</td>\n",
       "    </tr>\n",
       "    <tr>\n",
       "      <th>1</th>\n",
       "      <td>CON</td>\n",
       "      <td>567.127648</td>\n",
       "    </tr>\n",
       "    <tr>\n",
       "      <th>2</th>\n",
       "      <td>GXP</td>\n",
       "      <td>565.504310</td>\n",
       "    </tr>\n",
       "  </tbody>\n",
       "</table>\n",
       "</div>"
      ],
      "text/plain": [
       "  Variables         VIF\n",
       "0       INV    1.530888\n",
       "1       CON  567.127648\n",
       "2       GXP  565.504310"
      ]
     },
     "execution_count": 34,
     "metadata": {},
     "output_type": "execute_result"
    }
   ],
   "source": [
    "vif_TAX = df_train[['INV', 'CON', 'GXP']]\n",
    "calc_vif(vif_TAX)"
   ]
  },
  {
   "cell_type": "markdown",
   "metadata": {},
   "source": [
    "Based on the table above, it is found that the VIF values of CON, INV, and GXP are greater than 5. Therefore, there is multicollinearity between these variables."
   ]
  },
  {
   "cell_type": "markdown",
   "metadata": {},
   "source": [
    "### <font color='orange'> Autocorrelation Test"
   ]
  },
  {
   "cell_type": "markdown",
   "metadata": {},
   "source": [
    "#### <font color='purple'>GDP MODEL"
   ]
  },
  {
   "cell_type": "code",
   "execution_count": 35,
   "metadata": {},
   "outputs": [
    {
     "data": {
      "text/plain": [
       "1.391575921229655"
      ]
     },
     "execution_count": 35,
     "metadata": {},
     "output_type": "execute_result"
    }
   ],
   "source": [
    "durbin_watson(df_train['GDP_resid'])"
   ]
  },
  {
   "cell_type": "markdown",
   "metadata": {},
   "source": [
    "Based on Durbin Watson's rule of thumb, the results of the DW Test Statistics show that there is an autocorrelation in the GDP model because the results are not between 1.5 - 2.5"
   ]
  },
  {
   "cell_type": "markdown",
   "metadata": {},
   "source": [
    "#### <font color='purple'>TAX MODEL"
   ]
  },
  {
   "cell_type": "code",
   "execution_count": 36,
   "metadata": {},
   "outputs": [
    {
     "data": {
      "text/plain": [
       "0.47415366109453244"
      ]
     },
     "execution_count": 36,
     "metadata": {},
     "output_type": "execute_result"
    }
   ],
   "source": [
    "durbin_watson(df_train['TAX_resid'])"
   ]
  },
  {
   "cell_type": "markdown",
   "metadata": {},
   "source": [
    "Based on Durbin Watson's rule of thumb, the results of the DW Test Statistics show that there is an autocorrelation in the TAX model because the results are not between 1.5 - 2.5"
   ]
  },
  {
   "cell_type": "markdown",
   "metadata": {},
   "source": [
    "## <font color='blue'> First Transformation Data"
   ]
  },
  {
   "cell_type": "code",
   "execution_count": 37,
   "metadata": {},
   "outputs": [
    {
     "data": {
      "image/png": "[encoded data removed]",
      "text/plain": [
       "<Figure size 900x900 with 30 Axes>"
      ]
     },
     "metadata": {},
     "output_type": "display_data"
    }
   ],
   "source": [
    "sns.pairplot(data=df_train[[\"GDP\",\"INV\",\"TAX\",\"GXP\",\"CON\"]])\n",
    "plt.show()"
   ]
  },
  {
   "cell_type": "code",
   "execution_count": 38,
   "metadata": {},
   "outputs": [
    {
     "name": "stdout",
     "output_type": "stream",
     "text": [
      "GDP Skewness: 0.38760215661499464\n",
      "TAX Skewness: -0.08442826902887984\n",
      "INV Skewness: 3.5246090141625332\n",
      "GXP Skewness: 0.2706750821294627\n",
      "CON Skewness: 0.3843110364060779\n"
     ]
    }
   ],
   "source": [
    "print('GDP Skewness:',df_train['GDP'].skew())\n",
    "print('TAX Skewness:',df_train['TAX'].skew())\n",
    "print('INV Skewness:',df_train['INV'].skew())\n",
    "print('GXP Skewness:',df_train['GXP'].skew())\n",
    "print('CON Skewness:',df_train['CON'].skew())"
   ]
  },
  {
   "cell_type": "markdown",
   "metadata": {},
   "source": [
    "Left skewed: TAX <BR>\n",
    "Right Skewed : INV, GDP, GXP, CON"
   ]
  },
  {
   "cell_type": "markdown",
   "metadata": {},
   "source": [
    "## <font color='blue'> Transformation Data"
   ]
  },
  {
   "cell_type": "code",
   "execution_count": 39,
   "metadata": {},
   "outputs": [],
   "source": [
    "df_trainGDP1 = df_train.copy()\n",
    "df_trainTAX1 = df_train.copy()\n",
    "\n",
    "df_trainGDP1['sqrt_GDP'] = df_train['GDP']**(1/2)\n",
    "df_trainGDP1['sq_GXP'] = df_train['GXP']**(2)\n",
    "df_trainGDP1['exp_TAX'] = np.exp(df_train['TAX'])\n",
    "df_trainGDP1['ln_INV'] = np.log(df_train['INV'])\n",
    "df_trainGDP1['reci_CON'] = df_train['CON']**(-1)\n",
    "\n",
    "df_trainTAX1['sq_GDP'] = df_train['GDP']**(2)\n",
    "df_trainTAX1['sq_GXP'] = df_train['GXP']**(2)\n",
    "df_trainTAX1['ln_TAX'] = np.log(df_train['TAX'])\n",
    "df_trainTAX1['ln_INV'] = np.log(df_train['INV'])\n",
    "df_trainTAX1['reci_CON'] = df_train['CON']**(-1)"
   ]
  },
  {
   "cell_type": "markdown",
   "metadata": {},
   "source": [
    "### <font color='orange'> The Transformed GDP Model"
   ]
  },
  {
   "cell_type": "code",
   "execution_count": 40,
   "metadata": {
    "scrolled": true
   },
   "outputs": [
    {
     "name": "stdout",
     "output_type": "stream",
     "text": [
      "                            OLS Estimation Summary                            \n",
      "==============================================================================\n",
      "Dep. Variable:               sqrt_GDP   R-squared:                      0.9869\n",
      "Estimator:                        OLS   Adj. R-squared:                 0.9849\n",
      "No. Observations:                  24   F-statistic:                    1728.1\n",
      "Date:                Fri, Sep 02 2022   P-value (F-stat)                0.0000\n",
      "Time:                        23:06:04   Distribution:                  chi2(3)\n",
      "Cov. Estimator:                robust                                         \n",
      "                                                                              \n",
      "                             Parameter Estimates                              \n",
      "==============================================================================\n",
      "            Parameter  Std. Err.     T-stat    P-value    Lower CI    Upper CI\n",
      "------------------------------------------------------------------------------\n",
      "Intercept      66.061     4.2210     15.651     0.0000      57.788      74.334\n",
      "ln_INV         0.0909     0.0721     1.2611     0.2073     -0.0504      0.2321\n",
      "reci_CON   -2.728e+04     3971.1    -6.8704     0.0000  -3.507e+04   -1.95e+04\n",
      "sq_GXP      2.732e-06  8.921e-07     3.0623     0.0022   9.835e-07   4.481e-06\n",
      "==============================================================================\n"
     ]
    }
   ],
   "source": [
    "trans_formula11 = \"sqrt_GDP ~ 1 + reci_CON + sq_GXP + ln_INV\"\n",
    "trans_mod11 = IV2SLS.from_formula(trans_formula11, df_trainGDP1).fit()\n",
    "print(trans_mod11.summary)"
   ]
  },
  {
   "cell_type": "markdown",
   "metadata": {},
   "source": [
    "**SECOND STAGE** GDP Model:\n",
    "\n",
    "$\\hat{\\ln{GDP}} = -5.1893 + 2.091e+60{CON}^{-1} + 2.018e+55 \\ln{INV} + 1.741e+51{GXP}^{2}$ <br>\n",
    "\n",
    "From the coefficients, we can see that $\\ln{INV}$, and $\\ln{GXP}$ variables have positive correlation with $\\ln{GDP}$ variable, while $TAX$ variable has negative correlation with $\\ln{GDP}$ variable. <br>\n",
    "=======================================================================================<br>"
   ]
  },
  {
   "cell_type": "markdown",
   "metadata": {},
   "source": [
    "### <font color='orange'> The Transformed TAX Model"
   ]
  },
  {
   "cell_type": "code",
   "execution_count": 41,
   "metadata": {},
   "outputs": [
    {
     "name": "stdout",
     "output_type": "stream",
     "text": [
      "                          IV-2SLS Estimation Summary                          \n",
      "==============================================================================\n",
      "Dep. Variable:                 ln_TAX   R-squared:                      0.6392\n",
      "Estimator:                    IV-2SLS   Adj. R-squared:                 0.6228\n",
      "No. Observations:                  24   F-statistic:                    27.974\n",
      "Date:                Fri, Sep 02 2022   P-value (F-stat)                0.0000\n",
      "Time:                        23:06:04   Distribution:                  chi2(1)\n",
      "Cov. Estimator:                robust                                         \n",
      "                                                                              \n",
      "                             Parameter Estimates                              \n",
      "==============================================================================\n",
      "            Parameter  Std. Err.     T-stat    P-value    Lower CI    Upper CI\n",
      "------------------------------------------------------------------------------\n",
      "Intercept      4.2929     0.0732     58.653     0.0000      4.1494      4.4363\n",
      "sq_GDP      3.824e-08   7.23e-09     5.2890     0.0000   2.407e-08   5.241e-08\n",
      "==============================================================================\n",
      "\n",
      "Endogenous: sq_GDP\n",
      "Instruments: ln_INV, reci_CON, sq_GXP\n",
      "Robust Covariance (Heteroskedastic)\n",
      "Debiased: False\n"
     ]
    }
   ],
   "source": [
    "trans_formula22 = \"ln_TAX ~ 1 + [sq_GDP ~ ln_INV + sq_GXP + reci_CON]\"\n",
    "trans_mod22 = IV2SLS.from_formula(trans_formula22, df_trainTAX1).fit()\n",
    "print(trans_mod22.summary)"
   ]
  },
  {
   "cell_type": "markdown",
   "metadata": {},
   "source": [
    "**SECOND STAGE** Tax Model\n",
    "\n",
    "$\\hat{{TAX}^{1/2}} = -18.068 + 3.6280 \\ln{GDP} $ <br>\n",
    "\n",
    "The R-squared and Adjusted R-squared show that about 52% of the dependent variable can be estimated from the independent variables. <br>\n",
    "=======================================================================================<br>"
   ]
  },
  {
   "cell_type": "markdown",
   "metadata": {},
   "source": [
    "## <font color='blue'>Diagnostic Testing for Transformed Model</font>"
   ]
  },
  {
   "cell_type": "code",
   "execution_count": 42,
   "metadata": {},
   "outputs": [],
   "source": [
    "df_trainGDP1[\"trans_GDP_pred\"] = trans_mod11.fitted_values \n",
    "df_trainGDP1[\"trans_GDP_resid\"] = trans_mod11.resids\n",
    "df_trainTAX1[\"trans_TAX_pred\"] = trans_mod22.fitted_values\n",
    "df_trainTAX1[\"trans_TAX_resid\"] = trans_mod22.resids"
   ]
  },
  {
   "cell_type": "code",
   "execution_count": 43,
   "metadata": {},
   "outputs": [
    {
     "name": "stdout",
     "output_type": "stream",
     "text": [
      "GDP Model :  \t Sum of Residuals =  -1.0516032489249483e-11\n",
      "TAX Model :  \t Sum of Residuals =  -7.035261262444692e-12\n"
     ]
    }
   ],
   "source": [
    "print(\"GDP Model :  \\t Sum of Residuals = \", df_trainGDP1[\"trans_GDP_resid\"].sum())\n",
    "print(\"TAX Model :  \\t Sum of Residuals = \", df_trainTAX1[\"trans_TAX_resid\"].sum())"
   ]
  },
  {
   "cell_type": "markdown",
   "metadata": {},
   "source": [
    "### <font color='orange'> Normality Test"
   ]
  },
  {
   "cell_type": "markdown",
   "metadata": {},
   "source": [
    "#### <font color='purple'>GDP MODEL"
   ]
  },
  {
   "cell_type": "code",
   "execution_count": 44,
   "metadata": {},
   "outputs": [
    {
     "data": {
      "image/png": "[encoded data removed]",
      "text/plain": [
       "<Figure size 432x288 with 1 Axes>"
      ]
     },
     "metadata": {},
     "output_type": "display_data"
    }
   ],
   "source": [
    "sns.set_style('whitegrid')\n",
    "sm.qqplot(df_trainGDP1[\"trans_GDP_resid\"], line='s') #qqplot\n",
    "plt.title('Residuals QQ Plot of GDP Model', size=15)\n",
    "py.show()"
   ]
  },
  {
   "cell_type": "code",
   "execution_count": 45,
   "metadata": {},
   "outputs": [
    {
     "name": "stdout",
     "output_type": "stream",
     "text": [
      "Jarque-Bera Statistics:  0.28699619529294307\n",
      "Jarque-Bera P-Value:  0.8663224482372434\n"
     ]
    }
   ],
   "source": [
    "jb_GDP = stats.jarque_bera(df_trainGDP1[\"trans_GDP_resid\"])\n",
    "print(\"Jarque-Bera Statistics: \", jb_GDP[0])\n",
    "print(\"Jarque-Bera P-Value: \", jb_GDP[1])"
   ]
  },
  {
   "cell_type": "markdown",
   "metadata": {},
   "source": [
    "#### <font color='purple'>TAX MODEL"
   ]
  },
  {
   "cell_type": "code",
   "execution_count": 46,
   "metadata": {},
   "outputs": [
    {
     "data": {
      "image/png": "[encoded data removed]",
      "text/plain": [
       "<Figure size 432x288 with 1 Axes>"
      ]
     },
     "metadata": {},
     "output_type": "display_data"
    }
   ],
   "source": [
    "sns.set_style('whitegrid')\n",
    "sm.qqplot(df_trainTAX1[\"trans_TAX_resid\"], line='s') #qqplot\n",
    "plt.title('Residuals QQ Plot of TAX Model', size=15)\n",
    "py.show()"
   ]
  },
  {
   "cell_type": "code",
   "execution_count": 47,
   "metadata": {},
   "outputs": [
    {
     "name": "stdout",
     "output_type": "stream",
     "text": [
      "Jarque-Bera Statistics:  4.485258502165539\n",
      "Jarque-Bera P-Value:  0.10617896589081688\n"
     ]
    }
   ],
   "source": [
    "jb_TAX = stats.jarque_bera(df_trainTAX1[\"trans_TAX_resid\"])\n",
    "print(\"Jarque-Bera Statistics: \", jb_TAX[0])\n",
    "print(\"Jarque-Bera P-Value: \", jb_TAX[1])"
   ]
  },
  {
   "cell_type": "markdown",
   "metadata": {},
   "source": [
    "### <font color='orange'> Heteroskedasticity Test\n"
   ]
  },
  {
   "cell_type": "markdown",
   "metadata": {},
   "source": [
    "#### <font color='purple'>GDP MODEL"
   ]
  },
  {
   "cell_type": "code",
   "execution_count": 48,
   "metadata": {
    "scrolled": true
   },
   "outputs": [
    {
     "data": {
      "image/png": "[encoded data removed]",
      "text/plain": [
       "<Figure size 432x288 with 1 Axes>"
      ]
     },
     "metadata": {},
     "output_type": "display_data"
    }
   ],
   "source": [
    "plt.scatter(df_trainGDP1['trans_GDP_pred'], df_trainGDP1['trans_GDP_resid']) #resid vs fitted plot\n",
    "plt.axhline(y = df_trainGDP1['trans_GDP_resid'].mean(), color ='green', linestyle =':')\n",
    "plt.title('Second Transformation GDP Residuals vs Fitted Values Plot')\n",
    "plt.xlabel('Fitted Values')\n",
    "plt.ylabel('Residuals')\n",
    "py.show()"
   ]
  },
  {
   "cell_type": "code",
   "execution_count": 49,
   "metadata": {},
   "outputs": [
    {
     "name": "stdout",
     "output_type": "stream",
     "text": [
      "Breusch-Pagan Statistics:  -4.11188224711209\n",
      "Breusch-Pagan P-Value:  1.0\n"
     ]
    }
   ],
   "source": [
    "m111 = 'sqrt_GDP ~ 1 + exp_TAX + ln_INV + sq_GXP'\n",
    "y, X = dmatrices(m111, df_trainGDP1, return_type='dataframe')\n",
    "\n",
    "bp_GDP11 = het_breuschpagan(df_trainGDP1[\"GDP_resid\"], X)\n",
    "bp_GDP11\n",
    "\n",
    "print(\"Breusch-Pagan Statistics: \", bp_GDP11[0])\n",
    "print(\"Breusch-Pagan P-Value: \", bp_GDP11[1])"
   ]
  },
  {
   "cell_type": "markdown",
   "metadata": {},
   "source": [
    "After conducting statistic test to check the hetrokedasticity of the residuals for the transformed $GDP$ model, we get the *P-value* equals to  0.14244817065972087. <br>\n",
    "This value is greater than 0.05 (assume we choose 0.05 as our significance level/alpha). <br>\n",
    "Thus, if we do a hypothesis test with <br>\n",
    "|| $h_{0}:$ data variance is constant  , <br>\n",
    "|| $h_{1}:$ data variance is not constant ,<br>\n",
    "then we do not reject $h_{0}$, i.e. the residuals' variance of the transformed $GDP$ model is __constant, i.e. homokedasticity__."
   ]
  },
  {
   "cell_type": "markdown",
   "metadata": {},
   "source": [
    "#### <font color='purple'>TAX MODEL"
   ]
  },
  {
   "cell_type": "code",
   "execution_count": 50,
   "metadata": {
    "scrolled": false
   },
   "outputs": [
    {
     "data": {
      "image/png": "[encoded data removed]",
      "text/plain": [
       "<Figure size 432x288 with 1 Axes>"
      ]
     },
     "metadata": {},
     "output_type": "display_data"
    }
   ],
   "source": [
    "plt.scatter(df_trainTAX1['trans_TAX_pred'], df_trainTAX1['trans_TAX_resid']) #resid vs fitted plot\n",
    "plt.axhline(y = df_trainTAX1['trans_TAX_resid'].mean(), color ='green', linestyle =':')\n",
    "plt.title('Second Transformation TAX Residuals vs Fitted Values Plot')\n",
    "plt.xlabel('Fitted Values')\n",
    "plt.ylabel('Residuals')\n",
    "py.show()"
   ]
  },
  {
   "cell_type": "code",
   "execution_count": 51,
   "metadata": {},
   "outputs": [
    {
     "name": "stdout",
     "output_type": "stream",
     "text": [
      "Breusch-Pagan Statistics:  3.071668084269745\n",
      "Breusch-Pagan P-Value:  0.07966768618130689\n"
     ]
    }
   ],
   "source": [
    "m122 = \"ln_TAX ~ 1 + sq_GDP\"\n",
    "y, X = dmatrices(m122, df_trainTAX1, return_type='dataframe')\n",
    "\n",
    "bp_TAX11 = het_breuschpagan(df_trainTAX1[\"TAX_resid\"], X)\n",
    "bp_TAX11\n",
    "\n",
    "print(\"Breusch-Pagan Statistics: \", bp_TAX11[0])\n",
    "print(\"Breusch-Pagan P-Value: \", bp_TAX11[1])  "
   ]
  },
  {
   "cell_type": "markdown",
   "metadata": {},
   "source": [
    "After conducting statistic test to check the hetrokedasticity of the residuals for the $TAX$ model, we get the *P-value* equals to  0.00811118400904641. <br>\n",
    "This value is less than 0.05 (assume we choose 0.05 as our significance level/alpha). <br>\n",
    "Thus, if we do a hypothesis test with <br>\n",
    "|| $h_{0}:$ data variance is constant  , <br>\n",
    "|| $h_{1}:$ data variance is not constant ,<br>\n",
    "then we reject $h_{0}$, i.e. the residuals' variance of the $TAX$ model is __not constant, i.e. heteroskedasticity__."
   ]
  },
  {
   "cell_type": "markdown",
   "metadata": {},
   "source": [
    "### <font color='orange'> Multicollinearity Test"
   ]
  },
  {
   "cell_type": "markdown",
   "metadata": {},
   "source": [
    "#### <font color='purple'>GDP MODEL"
   ]
  },
  {
   "cell_type": "code",
   "execution_count": 52,
   "metadata": {},
   "outputs": [
    {
     "data": {
      "text/html": [
       "<div>\n",
       "<style scoped>\n",
       "    .dataframe tbody tr th:only-of-type {\n",
       "        vertical-align: middle;\n",
       "    }\n",
       "\n",
       "    .dataframe tbody tr th {\n",
       "        vertical-align: top;\n",
       "    }\n",
       "\n",
       "    .dataframe thead th {\n",
       "        text-align: right;\n",
       "    }\n",
       "</style>\n",
       "<table border=\"1\" class=\"dataframe\">\n",
       "  <thead>\n",
       "    <tr style=\"text-align: right;\">\n",
       "      <th></th>\n",
       "      <th>Variables</th>\n",
       "      <th>VIF</th>\n",
       "    </tr>\n",
       "  </thead>\n",
       "  <tbody>\n",
       "    <tr>\n",
       "      <th>0</th>\n",
       "      <td>exp_TAX</td>\n",
       "      <td>1.116045</td>\n",
       "    </tr>\n",
       "    <tr>\n",
       "      <th>1</th>\n",
       "      <td>ln_INV</td>\n",
       "      <td>1.007829</td>\n",
       "    </tr>\n",
       "    <tr>\n",
       "      <th>2</th>\n",
       "      <td>sq_GXP</td>\n",
       "      <td>0.179259</td>\n",
       "    </tr>\n",
       "  </tbody>\n",
       "</table>\n",
       "</div>"
      ],
      "text/plain": [
       "  Variables       VIF\n",
       "0   exp_TAX  1.116045\n",
       "1    ln_INV  1.007829\n",
       "2    sq_GXP  0.179259"
      ]
     },
     "execution_count": 52,
     "metadata": {},
     "output_type": "execute_result"
    }
   ],
   "source": [
    "vif_GDP = df_trainGDP1[['exp_TAX','ln_INV','sq_GXP']]\n",
    "calc_vif(vif_GDP)"
   ]
  },
  {
   "cell_type": "markdown",
   "metadata": {},
   "source": [
    "#### <font color='purple'>TAX MODEL"
   ]
  },
  {
   "cell_type": "code",
   "execution_count": 53,
   "metadata": {},
   "outputs": [
    {
     "data": {
      "text/html": [
       "<div>\n",
       "<style scoped>\n",
       "    .dataframe tbody tr th:only-of-type {\n",
       "        vertical-align: middle;\n",
       "    }\n",
       "\n",
       "    .dataframe tbody tr th {\n",
       "        vertical-align: top;\n",
       "    }\n",
       "\n",
       "    .dataframe thead th {\n",
       "        text-align: right;\n",
       "    }\n",
       "</style>\n",
       "<table border=\"1\" class=\"dataframe\">\n",
       "  <thead>\n",
       "    <tr style=\"text-align: right;\">\n",
       "      <th></th>\n",
       "      <th>Variables</th>\n",
       "      <th>VIF</th>\n",
       "    </tr>\n",
       "  </thead>\n",
       "  <tbody>\n",
       "    <tr>\n",
       "      <th>0</th>\n",
       "      <td>reci_CON</td>\n",
       "      <td>3.151912</td>\n",
       "    </tr>\n",
       "    <tr>\n",
       "      <th>1</th>\n",
       "      <td>ln_INV</td>\n",
       "      <td>1.113224</td>\n",
       "    </tr>\n",
       "    <tr>\n",
       "      <th>2</th>\n",
       "      <td>sq_GXP</td>\n",
       "      <td>3.187012</td>\n",
       "    </tr>\n",
       "  </tbody>\n",
       "</table>\n",
       "</div>"
      ],
      "text/plain": [
       "  Variables       VIF\n",
       "0  reci_CON  3.151912\n",
       "1    ln_INV  1.113224\n",
       "2    sq_GXP  3.187012"
      ]
     },
     "execution_count": 53,
     "metadata": {},
     "output_type": "execute_result"
    }
   ],
   "source": [
    "vif_TAX = df_trainTAX1[['reci_CON','ln_INV','sq_GXP']]\n",
    "calc_vif(vif_TAX)"
   ]
  },
  {
   "cell_type": "markdown",
   "metadata": {},
   "source": [
    "### <font color='orange'> Autocorrelation Test"
   ]
  },
  {
   "cell_type": "markdown",
   "metadata": {},
   "source": [
    "#### <font color='purple'>GDP MODEL"
   ]
  },
  {
   "cell_type": "code",
   "execution_count": 54,
   "metadata": {},
   "outputs": [
    {
     "data": {
      "text/plain": [
       "1.440477610551956"
      ]
     },
     "execution_count": 54,
     "metadata": {},
     "output_type": "execute_result"
    }
   ],
   "source": [
    "durbin_watson(df_trainGDP1['trans_GDP_resid']) "
   ]
  },
  {
   "cell_type": "markdown",
   "metadata": {},
   "source": [
    "#### <font color='purple'>TAX MODEL"
   ]
  },
  {
   "cell_type": "code",
   "execution_count": 55,
   "metadata": {},
   "outputs": [
    {
     "data": {
      "text/plain": [
       "0.4667805295105414"
      ]
     },
     "execution_count": 55,
     "metadata": {},
     "output_type": "execute_result"
    }
   ],
   "source": [
    "durbin_watson(df_trainTAX1['trans_TAX_resid'])"
   ]
  },
  {
   "cell_type": "markdown",
   "metadata": {},
   "source": [
    "**Conclusion of The Second Transformation in Classic Assumption Test**\n",
    "1. In the transformed model, heteroscedasticity is still present\n",
    "2. Since the VIF value is greater than 5. Therefore, there is multicollinearity between the variables.\n",
    "3. There is an autocorrelation in the GDP and TAX model because the results are not between 1.5 - 2.5.\n",
    "4. The data is normal"
   ]
  },
  {
   "cell_type": "markdown",
   "metadata": {},
   "source": [
    "## <font color='blue'> Conclusion"
   ]
  },
  {
   "cell_type": "markdown",
   "metadata": {},
   "source": [
    "- From the analysis above, we can conclude that GDP and TAX in Germany are endogenous to each other.\n",
    "- The original model equations with thei estimated parameters:<BR>\n",
    "$\\hat{GDP} = 4.1979 + 0.1190 GXP + 308.64 INV  -0.0355 \\hat{TAX}$ <br>\n",
    "$\\hat{TAX} = 31.233 + 0.0294 \\hat{GDP} $ <br>\n",
    "- Since the original  GDP  model generates residuals that are homoskedasticity, and the orignial  TAX  model generates residuals that are heteroskedasticity, then model transformation is needed.\n",
    "- The transformed model equations with their estimated parameter: <BR>\n",
    "$\\hat{\\ln{GDP}} = -1.1749 - 1.9574\\ln{TAX} + 0.1953 \\ln{INV} + 2.6664\\ln{GXP}$ <br>\n",
    "$\\hat{\\ln{TAX}} = -0.4485 + 0.6530 \\ln{GDP} $ <br>"
   ]
  },
  {
   "cell_type": "markdown",
   "metadata": {},
   "source": [
    "Source:\n",
    "- GDP : https://countryeconomy.com/gdp/germany\n",
    "- TAX : https://data.worldbank.org/indicator/GC.TAX.YPKG.CN?end=2020&locations=DE&start=1990\n",
    "- INV : https://data.worldbank.org/indicator/BX.KLT.DINV.WD.GD.ZS?end=2020&locations=DE&start=1991&view=chart\n",
    "- GXP : https://countryeconomy.com/government/expenditure/germany\n",
    "- CON : https://www.macrotrends.net/countries/DEU/germany/consumer-spending"
   ]
  }
 ],
 "metadata": {
  "kernelspec": {
   "display_name": "Python 3",
   "language": "python",
   "name": "python3"
  },
  "language_info": {
   "codemirror_mode": {
    "name": "ipython",
    "version": 3
   },
   "file_extension": ".py",
   "mimetype": "text/x-python",
   "name": "python",
   "nbconvert_exporter": "python",
   "pygments_lexer": "ipython3",
   "version": "3.8.5"
  }
 },
 "nbformat": 4,
 "nbformat_minor": 5
}
